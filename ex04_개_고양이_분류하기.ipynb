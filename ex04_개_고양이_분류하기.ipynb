{
  "nbformat": 4,
  "nbformat_minor": 0,
  "metadata": {
    "colab": {
      "provenance": [],
      "gpuType": "T4",
      "mount_file_id": "1AK7WZ7W1q4oUMXKpYf_LLJQBZHjGPmJo",
      "authorship_tag": "ABX9TyNlEvc2Fl5YWiU0hOz9z1pJ",
      "include_colab_link": true
    },
    "kernelspec": {
      "name": "python3",
      "display_name": "Python 3"
    },
    "language_info": {
      "name": "python"
    },
    "accelerator": "GPU"
  },
  "cells": [
    {
      "cell_type": "markdown",
      "metadata": {
        "id": "view-in-github",
        "colab_type": "text"
      },
      "source": [
        "<a href=\"https://colab.research.google.com/github/rimgosu/ColabBackup/blob/master/ex04_%EA%B0%9C_%EA%B3%A0%EC%96%91%EC%9D%B4_%EB%B6%84%EB%A5%98%ED%95%98%EA%B8%B0.ipynb\" target=\"_parent\"><img src=\"https://colab.research.google.com/assets/colab-badge.svg\" alt=\"Open In Colab\"/></a>"
      ]
    },
    {
      "cell_type": "code",
      "source": [
        "# /content/drive/MyDrive/Colab Notebooks/DeepLearning(Spring)/data/dogs_vs_cats_small\n",
        "train_dir = '/content/drive/MyDrive/Colab Notebooks/DeepLearning(Spring)/data/dogs_vs_cats_small/train'\n",
        "valid_dir = '/content/drive/MyDrive/Colab Notebooks/DeepLearning(Spring)/data/dogs_vs_cats_small/validation'"
      ],
      "metadata": {
        "id": "1rcxKX2w8DEG"
      },
      "execution_count": 1,
      "outputs": []
    },
    {
      "cell_type": "code",
      "source": [
        "# 하나의 변수에 이미지 파일 전부다 합치기\n",
        "# 픽셀값 변경 (0~255 / 정수) > (0~1 / 실수) : 정규화\n",
        "## 1. 숫자 크기 줄이기 > 연산량 감소\n",
        "## 2. 분산 줄이기 > 연산의 오류 줄어듦\n",
        "# 이미지 크기 맞춰주기 (150, 150)\n",
        "# 라벨링\n",
        "from tensorflow.keras.preprocessing.image import ImageDataGenerator"
      ],
      "metadata": {
        "id": "EXjKxVEK8FMU"
      },
      "execution_count": 2,
      "outputs": []
    },
    {
      "cell_type": "code",
      "source": [
        "# 픽셀값 변경하기\n",
        "## 프로그래밍에서 연산상에서 타입이 변경되도록 하기 (묵시적 형변환 int => float)\n",
        "generator = ImageDataGenerator(rescale= 1./255)\n",
        "\n"
      ],
      "metadata": {
        "id": "TSsXgm-r8FUY"
      },
      "execution_count": 3,
      "outputs": []
    },
    {
      "cell_type": "code",
      "source": [
        "# 하나의 변수에 이미지 파일 전부 다 합치기\n",
        "# 이미지 크기 동일하게 만들어주지\n",
        "# 라벨링\n",
        "train_generator = generator.flow_from_directory(\n",
        "    directory = train_dir,\n",
        "    target_size = (150,150), # 변환할 이미지의 크기\n",
        "    batch_size = 100, # 한 번에 변환할 이미지 갯수\n",
        "    class_mode = 'binary' # 라벨링 방법, 다중분류 : categorical\n",
        ")"
      ],
      "metadata": {
        "colab": {
          "base_uri": "https://localhost:8080/"
        },
        "id": "Y56qnZfP8FXP",
        "outputId": "2246f9e4-e951-49df-e204-b42f7356d17e"
      },
      "execution_count": 4,
      "outputs": [
        {
          "output_type": "stream",
          "name": "stdout",
          "text": [
            "Found 2000 images belonging to 2 classes.\n"
          ]
        }
      ]
    },
    {
      "cell_type": "code",
      "source": [
        "# 하나의 변수에 이미지 파일 전부 다 합치기\n",
        "# 이미지 크기 동일하게 만들어주지\n",
        "# 라벨링\n",
        "valid_generator = generator.flow_from_directory(\n",
        "    directory = valid_dir,\n",
        "    target_size = (150,150), # 변환할 이미지의 크기\n",
        "    batch_size = 100, # 한 번에 변환할 이미지 갯수\n",
        "    class_mode = 'binary' # 라벨링 방법, 다중분류 : categorical\n",
        ")"
      ],
      "metadata": {
        "colab": {
          "base_uri": "https://localhost:8080/"
        },
        "id": "2SOyzj7O8FZ7",
        "outputId": "eb9b4152-6269-4cb3-a8d5-6de72c8bf8bd"
      },
      "execution_count": 5,
      "outputs": [
        {
          "output_type": "stream",
          "name": "stdout",
          "text": [
            "Found 1000 images belonging to 2 classes.\n"
          ]
        }
      ]
    },
    {
      "cell_type": "code",
      "source": [
        "# CNN 모델 설계\n",
        "from tensorflow.keras import Sequential\n",
        "from tensorflow.keras.layers import Dense, Conv2D, MaxPool2D, Flatten"
      ],
      "metadata": {
        "id": "w608b9DW8FcX"
      },
      "execution_count": 6,
      "outputs": []
    },
    {
      "cell_type": "code",
      "source": [
        "model1 = Sequential()\n",
        "\n",
        "model1.add(Conv2D(\n",
        "    filters = 32,\n",
        "    kernel_size = (3,3),\n",
        "    input_shape = (150,150,3),\n",
        "    activation = 'relu'\n",
        "))\n",
        "\n",
        "model1.add(MaxPool2D(\n",
        "    pool_size= (2,2)\n",
        "))\n",
        "\n",
        "model1.add(Conv2D(\n",
        "    filters = 32,\n",
        "    kernel_size = (3,3),\n",
        "    activation = 'relu'\n",
        "))\n",
        "\n",
        "model1.add(MaxPool2D(\n",
        "    pool_size= (2,2)\n",
        "))"
      ],
      "metadata": {
        "id": "amGAkB9I8FfI"
      },
      "execution_count": 8,
      "outputs": []
    },
    {
      "cell_type": "code",
      "source": [
        "model1.add(Flatten())\n",
        "model1.add(Dense(units = 32, activation = 'relu'))\n",
        "model1.add(Dense(units= 1, activation = 'sigmoid'))"
      ],
      "metadata": {
        "id": "HwlmpBWJ8Fhm"
      },
      "execution_count": 11,
      "outputs": []
    },
    {
      "cell_type": "code",
      "source": [
        "model1.compile(\n",
        "    loss = 'binary_crossentropy',\n",
        "    optimizer = 'Adam',\n",
        "    metrics = ['accuracy']\n",
        ")"
      ],
      "metadata": {
        "id": "BHX1aoPc8DG5"
      },
      "execution_count": 12,
      "outputs": []
    },
    {
      "cell_type": "code",
      "source": [
        "model1.fit(\n",
        "    train_generator,\n",
        "    epochs = 20,\n",
        "    validation_data = valid_generator\n",
        ")"
      ],
      "metadata": {
        "colab": {
          "base_uri": "https://localhost:8080/"
        },
        "id": "7AGg0AdL8DKK",
        "outputId": "e3a7c84a-c77f-4b5d-c08d-70cde5b2b523"
      },
      "execution_count": 13,
      "outputs": [
        {
          "output_type": "stream",
          "name": "stdout",
          "text": [
            "Epoch 1/20\n",
            "20/20 [==============================] - 747s 37s/step - loss: 0.8069 - accuracy: 0.5040 - val_loss: 0.6760 - val_accuracy: 0.5830\n",
            "Epoch 2/20\n",
            "20/20 [==============================] - 9s 451ms/step - loss: 0.6613 - accuracy: 0.6005 - val_loss: 0.6602 - val_accuracy: 0.5900\n",
            "Epoch 3/20\n",
            "20/20 [==============================] - 11s 543ms/step - loss: 0.6317 - accuracy: 0.6320 - val_loss: 0.6296 - val_accuracy: 0.6150\n",
            "Epoch 4/20\n",
            "20/20 [==============================] - 8s 405ms/step - loss: 0.5659 - accuracy: 0.7100 - val_loss: 0.6255 - val_accuracy: 0.6350\n",
            "Epoch 5/20\n",
            "20/20 [==============================] - 9s 443ms/step - loss: 0.5197 - accuracy: 0.7540 - val_loss: 0.5765 - val_accuracy: 0.7060\n",
            "Epoch 6/20\n",
            "20/20 [==============================] - 11s 557ms/step - loss: 0.4778 - accuracy: 0.7790 - val_loss: 0.6034 - val_accuracy: 0.6860\n",
            "Epoch 7/20\n",
            "20/20 [==============================] - 11s 536ms/step - loss: 0.4365 - accuracy: 0.8085 - val_loss: 0.5792 - val_accuracy: 0.6950\n",
            "Epoch 8/20\n",
            "20/20 [==============================] - 8s 420ms/step - loss: 0.3750 - accuracy: 0.8425 - val_loss: 0.6044 - val_accuracy: 0.6930\n",
            "Epoch 9/20\n",
            "20/20 [==============================] - 9s 446ms/step - loss: 0.3720 - accuracy: 0.8410 - val_loss: 0.5936 - val_accuracy: 0.6860\n",
            "Epoch 10/20\n",
            "20/20 [==============================] - 8s 421ms/step - loss: 0.3336 - accuracy: 0.8675 - val_loss: 0.6518 - val_accuracy: 0.6890\n",
            "Epoch 11/20\n",
            "20/20 [==============================] - 8s 399ms/step - loss: 0.2621 - accuracy: 0.9050 - val_loss: 0.7054 - val_accuracy: 0.6710\n",
            "Epoch 12/20\n",
            "20/20 [==============================] - 9s 446ms/step - loss: 0.2318 - accuracy: 0.9160 - val_loss: 0.6544 - val_accuracy: 0.7080\n",
            "Epoch 13/20\n",
            "20/20 [==============================] - 11s 539ms/step - loss: 0.1845 - accuracy: 0.9475 - val_loss: 0.6990 - val_accuracy: 0.7100\n",
            "Epoch 14/20\n",
            "20/20 [==============================] - 8s 406ms/step - loss: 0.1528 - accuracy: 0.9590 - val_loss: 0.7455 - val_accuracy: 0.6990\n",
            "Epoch 15/20\n",
            "20/20 [==============================] - 8s 409ms/step - loss: 0.1213 - accuracy: 0.9685 - val_loss: 0.8344 - val_accuracy: 0.6910\n",
            "Epoch 16/20\n",
            "20/20 [==============================] - 9s 440ms/step - loss: 0.1072 - accuracy: 0.9735 - val_loss: 0.7949 - val_accuracy: 0.7040\n",
            "Epoch 17/20\n",
            "20/20 [==============================] - 8s 425ms/step - loss: 0.0709 - accuracy: 0.9885 - val_loss: 0.8454 - val_accuracy: 0.7050\n",
            "Epoch 18/20\n",
            "20/20 [==============================] - 8s 408ms/step - loss: 0.0477 - accuracy: 0.9950 - val_loss: 0.9226 - val_accuracy: 0.7070\n",
            "Epoch 19/20\n",
            "20/20 [==============================] - 9s 449ms/step - loss: 0.0418 - accuracy: 0.9970 - val_loss: 0.9387 - val_accuracy: 0.7110\n",
            "Epoch 20/20\n",
            "20/20 [==============================] - 8s 425ms/step - loss: 0.0339 - accuracy: 0.9960 - val_loss: 0.9993 - val_accuracy: 0.7020\n"
          ]
        },
        {
          "output_type": "execute_result",
          "data": {
            "text/plain": [
              "<keras.src.callbacks.History at 0x7c5333ffd870>"
            ]
          },
          "metadata": {},
          "execution_count": 13
        }
      ]
    },
    {
      "cell_type": "code",
      "source": [],
      "metadata": {
        "id": "HlI1-1bA8DNe"
      },
      "execution_count": 7,
      "outputs": []
    },
    {
      "cell_type": "code",
      "source": [],
      "metadata": {
        "id": "_wrtaN6k8DQv"
      },
      "execution_count": 7,
      "outputs": []
    },
    {
      "cell_type": "code",
      "source": [],
      "metadata": {
        "id": "c5BEohvB8DUC"
      },
      "execution_count": 7,
      "outputs": []
    },
    {
      "cell_type": "code",
      "source": [],
      "metadata": {
        "id": "qc_MBP568DXT"
      },
      "execution_count": 7,
      "outputs": []
    },
    {
      "cell_type": "code",
      "source": [],
      "metadata": {
        "id": "mAjg92t58Dal"
      },
      "execution_count": 7,
      "outputs": []
    },
    {
      "cell_type": "code",
      "source": [],
      "metadata": {
        "id": "ZIsianFZ8Dd4"
      },
      "execution_count": 7,
      "outputs": []
    },
    {
      "cell_type": "code",
      "source": [],
      "metadata": {
        "id": "zIQuBuoB8Dhm"
      },
      "execution_count": 7,
      "outputs": []
    },
    {
      "cell_type": "code",
      "source": [],
      "metadata": {
        "id": "dDFI5RTX8Dkd"
      },
      "execution_count": 7,
      "outputs": []
    },
    {
      "cell_type": "code",
      "source": [],
      "metadata": {
        "id": "Ygftvaz-8Dnt"
      },
      "execution_count": 7,
      "outputs": []
    },
    {
      "cell_type": "code",
      "source": [],
      "metadata": {
        "id": "o2HXcArC8DrA"
      },
      "execution_count": 7,
      "outputs": []
    },
    {
      "cell_type": "code",
      "source": [],
      "metadata": {
        "id": "yUxNVgyD8DvM"
      },
      "execution_count": 7,
      "outputs": []
    },
    {
      "cell_type": "code",
      "source": [],
      "metadata": {
        "id": "72Yacz7Q8Dz4"
      },
      "execution_count": 7,
      "outputs": []
    },
    {
      "cell_type": "code",
      "source": [],
      "metadata": {
        "id": "MN2pq86e8D2P"
      },
      "execution_count": 7,
      "outputs": []
    },
    {
      "cell_type": "code",
      "source": [],
      "metadata": {
        "id": "NbGj08yR8D5D"
      },
      "execution_count": 7,
      "outputs": []
    },
    {
      "cell_type": "code",
      "source": [],
      "metadata": {
        "id": "5k3FbNet8EPH"
      },
      "execution_count": 7,
      "outputs": []
    },
    {
      "cell_type": "code",
      "source": [],
      "metadata": {
        "id": "35unyCAS8ERx"
      },
      "execution_count": 7,
      "outputs": []
    },
    {
      "cell_type": "code",
      "source": [],
      "metadata": {
        "id": "O_dtYv-R8EUO"
      },
      "execution_count": 7,
      "outputs": []
    },
    {
      "cell_type": "code",
      "source": [],
      "metadata": {
        "id": "zTENhBVk8EWm"
      },
      "execution_count": 7,
      "outputs": []
    },
    {
      "cell_type": "code",
      "source": [],
      "metadata": {
        "id": "stmqrxn68EZO"
      },
      "execution_count": 7,
      "outputs": []
    },
    {
      "cell_type": "code",
      "source": [],
      "metadata": {
        "id": "0x2U_ThC8Eb3"
      },
      "execution_count": 7,
      "outputs": []
    },
    {
      "cell_type": "code",
      "source": [],
      "metadata": {
        "id": "0EKOquGV8Eeh"
      },
      "execution_count": 7,
      "outputs": []
    },
    {
      "cell_type": "code",
      "source": [],
      "metadata": {
        "id": "FTkpmXSJ8Ego"
      },
      "execution_count": 7,
      "outputs": []
    },
    {
      "cell_type": "code",
      "source": [],
      "metadata": {
        "id": "M036T3X88Ejd"
      },
      "execution_count": 7,
      "outputs": []
    }
  ]
}