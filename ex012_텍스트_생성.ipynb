{
  "nbformat": 4,
  "nbformat_minor": 0,
  "metadata": {
    "colab": {
      "provenance": [],
      "authorship_tag": "ABX9TyMb9U9e4f4VIly2bsartBIr",
      "include_colab_link": true
    },
    "kernelspec": {
      "name": "python3",
      "display_name": "Python 3"
    },
    "language_info": {
      "name": "python"
    }
  },
  "cells": [
    {
      "cell_type": "markdown",
      "metadata": {
        "id": "view-in-github",
        "colab_type": "text"
      },
      "source": [
        "<a href=\"https://colab.research.google.com/github/rimgosu/ColabBackup/blob/master/ex012_%ED%85%8D%EC%8A%A4%ED%8A%B8_%EC%83%9D%EC%84%B1.ipynb\" target=\"_parent\"><img src=\"https://colab.research.google.com/assets/colab-badge.svg\" alt=\"Open In Colab\"/></a>"
      ]
    },
    {
      "cell_type": "code",
      "execution_count": 1,
      "metadata": {
        "id": "iFRclO6OetDe"
      },
      "outputs": [],
      "source": [
        "# input = 가는\n",
        "# output = 말이 고와야 오는 말이 곱다\n",
        "# 첫 마디 입력시 뒤에 나올 말 생성"
      ]
    },
    {
      "cell_type": "code",
      "source": [
        "text=\"\"\"경마장에 있는 말이 뛰고 있다\\n\n",
        "그의 말이 법이다\\n\n",
        "가는 말이 고와야 오는 말이 곱다\"\"\"\n",
        "# 바로 전의 말만 확인하고 텍스트를 생성하는 게 아니라 전에 나왔던 모든 말을 확인하고\n",
        "# 텍스트를 생성하기 때문에 \"말이\" 다음에 나오는 말들을 생성 가능"
      ],
      "metadata": {
        "id": "9YVxkedke9qy"
      },
      "execution_count": 3,
      "outputs": []
    },
    {
      "cell_type": "code",
      "source": [
        "# 띄어쓰기를 기준으로 단어 분리\n",
        "from tensorflow.keras.preprocessing.text import Tokenizer\n",
        "\n",
        "t = Tokenizer()\n",
        "t.fit_on_texts([text])\n",
        "\n",
        "t.word_index"
      ],
      "metadata": {
        "colab": {
          "base_uri": "https://localhost:8080/"
        },
        "id": "LyLd0wgxe9oc",
        "outputId": "a93d3ebf-a8f0-4e69-a8af-a6eb78b2ed0b"
      },
      "execution_count": 5,
      "outputs": [
        {
          "output_type": "execute_result",
          "data": {
            "text/plain": [
              "{'말이': 1,\n",
              " '경마장에': 2,\n",
              " '있는': 3,\n",
              " '뛰고': 4,\n",
              " '있다': 5,\n",
              " '그의': 6,\n",
              " '법이다': 7,\n",
              " '가는': 8,\n",
              " '고와야': 9,\n",
              " '오는': 10,\n",
              " '곱다': 11}"
            ]
          },
          "metadata": {},
          "execution_count": 5
        }
      ]
    },
    {
      "cell_type": "code",
      "source": [
        "# 훈련 데이터 생성\n",
        "sequences = []\n",
        "for line in text.split('\\n'):\n",
        "  # 단어를 정수로 변경\n",
        "  encoded = t.texts_to_sequences([line])[0]\n",
        "\n",
        "  # 2개 이상의 조합 생성\n",
        "  for i in range(1,len(encoded)):\n",
        "    sequence = encoded[:i+1]\n",
        "    sequences.append(sequence)"
      ],
      "metadata": {
        "id": "S0stpYQje9mW"
      },
      "execution_count": 6,
      "outputs": []
    },
    {
      "cell_type": "code",
      "source": [
        "sequences"
      ],
      "metadata": {
        "colab": {
          "base_uri": "https://localhost:8080/"
        },
        "id": "rE87Dezfe9kB",
        "outputId": "c5b1ed0f-95dc-41b2-a817-03f09097ed50"
      },
      "execution_count": 7,
      "outputs": [
        {
          "output_type": "execute_result",
          "data": {
            "text/plain": [
              "[[2, 3],\n",
              " [2, 3, 1],\n",
              " [2, 3, 1, 4],\n",
              " [2, 3, 1, 4, 5],\n",
              " [6, 1],\n",
              " [6, 1, 7],\n",
              " [8, 1],\n",
              " [8, 1, 9],\n",
              " [8, 1, 9, 10],\n",
              " [8, 1, 9, 10, 1],\n",
              " [8, 1, 9, 10, 1, 11]]"
            ]
          },
          "metadata": {},
          "execution_count": 7
        }
      ]
    },
    {
      "cell_type": "code",
      "source": [
        "from tensorflow.keras.preprocessing.sequence import pad_sequences\n",
        "\n",
        "max_len = 6\n",
        "\n",
        "sequences = pad_sequences(sequences, maxlen = max_len)\n",
        "sequences"
      ],
      "metadata": {
        "colab": {
          "base_uri": "https://localhost:8080/"
        },
        "id": "Df73C6bbe9hr",
        "outputId": "30731482-6b02-4d1c-c380-4fac37ac4cc2"
      },
      "execution_count": 8,
      "outputs": [
        {
          "output_type": "execute_result",
          "data": {
            "text/plain": [
              "array([[ 0,  0,  0,  0,  2,  3],\n",
              "       [ 0,  0,  0,  2,  3,  1],\n",
              "       [ 0,  0,  2,  3,  1,  4],\n",
              "       [ 0,  2,  3,  1,  4,  5],\n",
              "       [ 0,  0,  0,  0,  6,  1],\n",
              "       [ 0,  0,  0,  6,  1,  7],\n",
              "       [ 0,  0,  0,  0,  8,  1],\n",
              "       [ 0,  0,  0,  8,  1,  9],\n",
              "       [ 0,  0,  8,  1,  9, 10],\n",
              "       [ 0,  8,  1,  9, 10,  1],\n",
              "       [ 8,  1,  9, 10,  1, 11]], dtype=int32)"
            ]
          },
          "metadata": {},
          "execution_count": 8
        }
      ]
    },
    {
      "cell_type": "code",
      "source": [
        "import numpy as np\n",
        "sequences = np.array(sequences)\n",
        "X = sequences[:,:-1] # 문제데이터\n",
        "y = sequences[:,-1] # 정답데이터"
      ],
      "metadata": {
        "id": "W8Vdz6yKe9fV"
      },
      "execution_count": 10,
      "outputs": []
    },
    {
      "cell_type": "code",
      "source": [
        "# 원핫인코딩\n",
        "from tensorflow.keras.utils import to_categorical\n",
        "\n",
        "y_en = to_categorical(y,num_classes = 12)\n",
        "y_en"
      ],
      "metadata": {
        "colab": {
          "base_uri": "https://localhost:8080/"
        },
        "id": "uPwZM7hve9c_",
        "outputId": "b942001e-9288-4729-b5d9-e59140b92ec3"
      },
      "execution_count": 11,
      "outputs": [
        {
          "output_type": "execute_result",
          "data": {
            "text/plain": [
              "array([[0., 0., 0., 1., 0., 0., 0., 0., 0., 0., 0., 0.],\n",
              "       [0., 1., 0., 0., 0., 0., 0., 0., 0., 0., 0., 0.],\n",
              "       [0., 0., 0., 0., 1., 0., 0., 0., 0., 0., 0., 0.],\n",
              "       [0., 0., 0., 0., 0., 1., 0., 0., 0., 0., 0., 0.],\n",
              "       [0., 1., 0., 0., 0., 0., 0., 0., 0., 0., 0., 0.],\n",
              "       [0., 0., 0., 0., 0., 0., 0., 1., 0., 0., 0., 0.],\n",
              "       [0., 1., 0., 0., 0., 0., 0., 0., 0., 0., 0., 0.],\n",
              "       [0., 0., 0., 0., 0., 0., 0., 0., 0., 1., 0., 0.],\n",
              "       [0., 0., 0., 0., 0., 0., 0., 0., 0., 0., 1., 0.],\n",
              "       [0., 1., 0., 0., 0., 0., 0., 0., 0., 0., 0., 0.],\n",
              "       [0., 0., 0., 0., 0., 0., 0., 0., 0., 0., 0., 1.]], dtype=float32)"
            ]
          },
          "metadata": {},
          "execution_count": 11
        }
      ]
    },
    {
      "cell_type": "code",
      "source": [
        "from tensorflow.keras.layers import Embedding, Dense, SimpleRNN\n",
        "from tensorflow.keras import Sequential\n",
        "\n",
        "model1 = Sequential()\n",
        "\n",
        "model1.add(Embedding(12,10,input_length = 5))\n",
        "model1.add(SimpleRNN(32))\n",
        "model1.add(Dense(units = 12, activation = 'softmax'))\n",
        "\n",
        "model1.compile(\n",
        "    loss = 'categorical_crossentropy',\n",
        "    optimizer = 'adam',\n",
        "    metrics = ['accuracy']\n",
        ")\n",
        "\n",
        "model1.fit(X, y_en, epochs = 200)"
      ],
      "metadata": {
        "colab": {
          "base_uri": "https://localhost:8080/"
        },
        "id": "ZWHxFqRZe9aH",
        "outputId": "cd765c35-41c2-4cff-be73-4b7d7ac184e1"
      },
      "execution_count": 12,
      "outputs": [
        {
          "output_type": "stream",
          "name": "stdout",
          "text": [
            "Epoch 1/200\n",
            "1/1 [==============================] - 1s 1s/step - loss: 2.4904 - accuracy: 0.0000e+00\n",
            "Epoch 2/200\n",
            "1/1 [==============================] - 0s 10ms/step - loss: 2.4778 - accuracy: 0.0000e+00\n",
            "Epoch 3/200\n",
            "1/1 [==============================] - 0s 10ms/step - loss: 2.4653 - accuracy: 0.0909\n",
            "Epoch 4/200\n",
            "1/1 [==============================] - 0s 11ms/step - loss: 2.4527 - accuracy: 0.1818\n",
            "Epoch 5/200\n",
            "1/1 [==============================] - 0s 10ms/step - loss: 2.4400 - accuracy: 0.0909\n",
            "Epoch 6/200\n",
            "1/1 [==============================] - 0s 10ms/step - loss: 2.4271 - accuracy: 0.3636\n",
            "Epoch 7/200\n",
            "1/1 [==============================] - 0s 13ms/step - loss: 2.4138 - accuracy: 0.3636\n",
            "Epoch 8/200\n",
            "1/1 [==============================] - 0s 11ms/step - loss: 2.4001 - accuracy: 0.4545\n",
            "Epoch 9/200\n",
            "1/1 [==============================] - 0s 10ms/step - loss: 2.3859 - accuracy: 0.4545\n",
            "Epoch 10/200\n",
            "1/1 [==============================] - 0s 12ms/step - loss: 2.3710 - accuracy: 0.4545\n",
            "Epoch 11/200\n",
            "1/1 [==============================] - 0s 12ms/step - loss: 2.3555 - accuracy: 0.4545\n",
            "Epoch 12/200\n",
            "1/1 [==============================] - 0s 9ms/step - loss: 2.3392 - accuracy: 0.4545\n",
            "Epoch 13/200\n",
            "1/1 [==============================] - 0s 13ms/step - loss: 2.3220 - accuracy: 0.4545\n",
            "Epoch 14/200\n",
            "1/1 [==============================] - 0s 13ms/step - loss: 2.3040 - accuracy: 0.4545\n",
            "Epoch 15/200\n",
            "1/1 [==============================] - 0s 15ms/step - loss: 2.2850 - accuracy: 0.4545\n",
            "Epoch 16/200\n",
            "1/1 [==============================] - 0s 17ms/step - loss: 2.2650 - accuracy: 0.4545\n",
            "Epoch 17/200\n",
            "1/1 [==============================] - 0s 11ms/step - loss: 2.2440 - accuracy: 0.4545\n",
            "Epoch 18/200\n",
            "1/1 [==============================] - 0s 11ms/step - loss: 2.2220 - accuracy: 0.4545\n",
            "Epoch 19/200\n",
            "1/1 [==============================] - 0s 12ms/step - loss: 2.1990 - accuracy: 0.4545\n",
            "Epoch 20/200\n",
            "1/1 [==============================] - 0s 12ms/step - loss: 2.1750 - accuracy: 0.3636\n",
            "Epoch 21/200\n",
            "1/1 [==============================] - 0s 12ms/step - loss: 2.1501 - accuracy: 0.3636\n",
            "Epoch 22/200\n",
            "1/1 [==============================] - 0s 11ms/step - loss: 2.1244 - accuracy: 0.3636\n",
            "Epoch 23/200\n",
            "1/1 [==============================] - 0s 11ms/step - loss: 2.0980 - accuracy: 0.3636\n",
            "Epoch 24/200\n",
            "1/1 [==============================] - 0s 11ms/step - loss: 2.0710 - accuracy: 0.3636\n",
            "Epoch 25/200\n",
            "1/1 [==============================] - 0s 10ms/step - loss: 2.0438 - accuracy: 0.3636\n",
            "Epoch 26/200\n",
            "1/1 [==============================] - 0s 10ms/step - loss: 2.0166 - accuracy: 0.3636\n",
            "Epoch 27/200\n",
            "1/1 [==============================] - 0s 11ms/step - loss: 1.9896 - accuracy: 0.3636\n",
            "Epoch 28/200\n",
            "1/1 [==============================] - 0s 10ms/step - loss: 1.9631 - accuracy: 0.3636\n",
            "Epoch 29/200\n",
            "1/1 [==============================] - 0s 12ms/step - loss: 1.9375 - accuracy: 0.3636\n",
            "Epoch 30/200\n",
            "1/1 [==============================] - 0s 10ms/step - loss: 1.9131 - accuracy: 0.3636\n",
            "Epoch 31/200\n",
            "1/1 [==============================] - 0s 11ms/step - loss: 1.8899 - accuracy: 0.3636\n",
            "Epoch 32/200\n",
            "1/1 [==============================] - 0s 13ms/step - loss: 1.8682 - accuracy: 0.3636\n",
            "Epoch 33/200\n",
            "1/1 [==============================] - 0s 13ms/step - loss: 1.8479 - accuracy: 0.3636\n",
            "Epoch 34/200\n",
            "1/1 [==============================] - 0s 11ms/step - loss: 1.8290 - accuracy: 0.3636\n",
            "Epoch 35/200\n",
            "1/1 [==============================] - 0s 10ms/step - loss: 1.8111 - accuracy: 0.3636\n",
            "Epoch 36/200\n",
            "1/1 [==============================] - 0s 11ms/step - loss: 1.7940 - accuracy: 0.3636\n",
            "Epoch 37/200\n",
            "1/1 [==============================] - 0s 11ms/step - loss: 1.7772 - accuracy: 0.3636\n",
            "Epoch 38/200\n",
            "1/1 [==============================] - 0s 11ms/step - loss: 1.7606 - accuracy: 0.3636\n",
            "Epoch 39/200\n",
            "1/1 [==============================] - 0s 11ms/step - loss: 1.7437 - accuracy: 0.3636\n",
            "Epoch 40/200\n",
            "1/1 [==============================] - 0s 11ms/step - loss: 1.7264 - accuracy: 0.3636\n",
            "Epoch 41/200\n",
            "1/1 [==============================] - 0s 10ms/step - loss: 1.7087 - accuracy: 0.4545\n",
            "Epoch 42/200\n",
            "1/1 [==============================] - 0s 12ms/step - loss: 1.6906 - accuracy: 0.4545\n",
            "Epoch 43/200\n",
            "1/1 [==============================] - 0s 11ms/step - loss: 1.6722 - accuracy: 0.4545\n",
            "Epoch 44/200\n",
            "1/1 [==============================] - 0s 14ms/step - loss: 1.6536 - accuracy: 0.4545\n",
            "Epoch 45/200\n",
            "1/1 [==============================] - 0s 13ms/step - loss: 1.6351 - accuracy: 0.4545\n",
            "Epoch 46/200\n",
            "1/1 [==============================] - 0s 11ms/step - loss: 1.6168 - accuracy: 0.4545\n",
            "Epoch 47/200\n",
            "1/1 [==============================] - 0s 12ms/step - loss: 1.5987 - accuracy: 0.4545\n",
            "Epoch 48/200\n",
            "1/1 [==============================] - 0s 11ms/step - loss: 1.5811 - accuracy: 0.4545\n",
            "Epoch 49/200\n",
            "1/1 [==============================] - 0s 11ms/step - loss: 1.5640 - accuracy: 0.4545\n",
            "Epoch 50/200\n",
            "1/1 [==============================] - 0s 15ms/step - loss: 1.5471 - accuracy: 0.4545\n",
            "Epoch 51/200\n",
            "1/1 [==============================] - 0s 12ms/step - loss: 1.5306 - accuracy: 0.4545\n",
            "Epoch 52/200\n",
            "1/1 [==============================] - 0s 12ms/step - loss: 1.5143 - accuracy: 0.4545\n",
            "Epoch 53/200\n",
            "1/1 [==============================] - 0s 11ms/step - loss: 1.4980 - accuracy: 0.4545\n",
            "Epoch 54/200\n",
            "1/1 [==============================] - 0s 11ms/step - loss: 1.4818 - accuracy: 0.4545\n",
            "Epoch 55/200\n",
            "1/1 [==============================] - 0s 12ms/step - loss: 1.4655 - accuracy: 0.4545\n",
            "Epoch 56/200\n",
            "1/1 [==============================] - 0s 11ms/step - loss: 1.4492 - accuracy: 0.4545\n",
            "Epoch 57/200\n",
            "1/1 [==============================] - 0s 13ms/step - loss: 1.4330 - accuracy: 0.4545\n",
            "Epoch 58/200\n",
            "1/1 [==============================] - 0s 12ms/step - loss: 1.4167 - accuracy: 0.4545\n",
            "Epoch 59/200\n",
            "1/1 [==============================] - 0s 14ms/step - loss: 1.4006 - accuracy: 0.4545\n",
            "Epoch 60/200\n",
            "1/1 [==============================] - 0s 12ms/step - loss: 1.3846 - accuracy: 0.4545\n",
            "Epoch 61/200\n",
            "1/1 [==============================] - 0s 12ms/step - loss: 1.3688 - accuracy: 0.4545\n",
            "Epoch 62/200\n",
            "1/1 [==============================] - 0s 11ms/step - loss: 1.3531 - accuracy: 0.4545\n",
            "Epoch 63/200\n",
            "1/1 [==============================] - 0s 11ms/step - loss: 1.3377 - accuracy: 0.4545\n",
            "Epoch 64/200\n",
            "1/1 [==============================] - 0s 12ms/step - loss: 1.3223 - accuracy: 0.4545\n",
            "Epoch 65/200\n",
            "1/1 [==============================] - 0s 13ms/step - loss: 1.3070 - accuracy: 0.4545\n",
            "Epoch 66/200\n",
            "1/1 [==============================] - 0s 15ms/step - loss: 1.2917 - accuracy: 0.4545\n",
            "Epoch 67/200\n",
            "1/1 [==============================] - 0s 11ms/step - loss: 1.2765 - accuracy: 0.5455\n",
            "Epoch 68/200\n",
            "1/1 [==============================] - 0s 11ms/step - loss: 1.2612 - accuracy: 0.5455\n",
            "Epoch 69/200\n",
            "1/1 [==============================] - 0s 10ms/step - loss: 1.2459 - accuracy: 0.5455\n",
            "Epoch 70/200\n",
            "1/1 [==============================] - 0s 11ms/step - loss: 1.2305 - accuracy: 0.6364\n",
            "Epoch 71/200\n",
            "1/1 [==============================] - 0s 10ms/step - loss: 1.2151 - accuracy: 0.6364\n",
            "Epoch 72/200\n",
            "1/1 [==============================] - 0s 13ms/step - loss: 1.1997 - accuracy: 0.6364\n",
            "Epoch 73/200\n",
            "1/1 [==============================] - 0s 10ms/step - loss: 1.1842 - accuracy: 0.6364\n",
            "Epoch 74/200\n",
            "1/1 [==============================] - 0s 10ms/step - loss: 1.1687 - accuracy: 0.6364\n",
            "Epoch 75/200\n",
            "1/1 [==============================] - 0s 10ms/step - loss: 1.1531 - accuracy: 0.6364\n",
            "Epoch 76/200\n",
            "1/1 [==============================] - 0s 10ms/step - loss: 1.1374 - accuracy: 0.6364\n",
            "Epoch 77/200\n",
            "1/1 [==============================] - 0s 11ms/step - loss: 1.1216 - accuracy: 0.6364\n",
            "Epoch 78/200\n",
            "1/1 [==============================] - 0s 11ms/step - loss: 1.1058 - accuracy: 0.6364\n",
            "Epoch 79/200\n",
            "1/1 [==============================] - 0s 12ms/step - loss: 1.0897 - accuracy: 0.7273\n",
            "Epoch 80/200\n",
            "1/1 [==============================] - 0s 11ms/step - loss: 1.0737 - accuracy: 0.7273\n",
            "Epoch 81/200\n",
            "1/1 [==============================] - 0s 11ms/step - loss: 1.0575 - accuracy: 0.7273\n",
            "Epoch 82/200\n",
            "1/1 [==============================] - 0s 11ms/step - loss: 1.0414 - accuracy: 0.7273\n",
            "Epoch 83/200\n",
            "1/1 [==============================] - 0s 12ms/step - loss: 1.0252 - accuracy: 0.8182\n",
            "Epoch 84/200\n",
            "1/1 [==============================] - 0s 11ms/step - loss: 1.0091 - accuracy: 0.8182\n",
            "Epoch 85/200\n",
            "1/1 [==============================] - 0s 12ms/step - loss: 0.9930 - accuracy: 0.8182\n",
            "Epoch 86/200\n",
            "1/1 [==============================] - 0s 12ms/step - loss: 0.9770 - accuracy: 0.8182\n",
            "Epoch 87/200\n",
            "1/1 [==============================] - 0s 11ms/step - loss: 0.9611 - accuracy: 0.8182\n",
            "Epoch 88/200\n",
            "1/1 [==============================] - 0s 11ms/step - loss: 0.9452 - accuracy: 0.8182\n",
            "Epoch 89/200\n",
            "1/1 [==============================] - 0s 10ms/step - loss: 0.9295 - accuracy: 0.8182\n",
            "Epoch 90/200\n",
            "1/1 [==============================] - 0s 11ms/step - loss: 0.9139 - accuracy: 0.8182\n",
            "Epoch 91/200\n",
            "1/1 [==============================] - 0s 11ms/step - loss: 0.8985 - accuracy: 0.8182\n",
            "Epoch 92/200\n",
            "1/1 [==============================] - 0s 10ms/step - loss: 0.8832 - accuracy: 0.8182\n",
            "Epoch 93/200\n",
            "1/1 [==============================] - 0s 11ms/step - loss: 0.8681 - accuracy: 0.8182\n",
            "Epoch 94/200\n",
            "1/1 [==============================] - 0s 10ms/step - loss: 0.8532 - accuracy: 0.8182\n",
            "Epoch 95/200\n",
            "1/1 [==============================] - 0s 11ms/step - loss: 0.8385 - accuracy: 0.8182\n",
            "Epoch 96/200\n",
            "1/1 [==============================] - 0s 13ms/step - loss: 0.8240 - accuracy: 0.8182\n",
            "Epoch 97/200\n",
            "1/1 [==============================] - 0s 12ms/step - loss: 0.8097 - accuracy: 0.8182\n",
            "Epoch 98/200\n",
            "1/1 [==============================] - 0s 12ms/step - loss: 0.7957 - accuracy: 0.8182\n",
            "Epoch 99/200\n",
            "1/1 [==============================] - 0s 12ms/step - loss: 0.7819 - accuracy: 0.8182\n",
            "Epoch 100/200\n",
            "1/1 [==============================] - 0s 13ms/step - loss: 0.7683 - accuracy: 0.8182\n",
            "Epoch 101/200\n",
            "1/1 [==============================] - 0s 11ms/step - loss: 0.7549 - accuracy: 0.8182\n",
            "Epoch 102/200\n",
            "1/1 [==============================] - 0s 11ms/step - loss: 0.7418 - accuracy: 0.8182\n",
            "Epoch 103/200\n",
            "1/1 [==============================] - 0s 12ms/step - loss: 0.7290 - accuracy: 0.8182\n",
            "Epoch 104/200\n",
            "1/1 [==============================] - 0s 11ms/step - loss: 0.7164 - accuracy: 0.8182\n",
            "Epoch 105/200\n",
            "1/1 [==============================] - 0s 12ms/step - loss: 0.7041 - accuracy: 0.8182\n",
            "Epoch 106/200\n",
            "1/1 [==============================] - 0s 13ms/step - loss: 0.6920 - accuracy: 0.8182\n",
            "Epoch 107/200\n",
            "1/1 [==============================] - 0s 14ms/step - loss: 0.6803 - accuracy: 0.8182\n",
            "Epoch 108/200\n",
            "1/1 [==============================] - 0s 11ms/step - loss: 0.6687 - accuracy: 0.8182\n",
            "Epoch 109/200\n",
            "1/1 [==============================] - 0s 13ms/step - loss: 0.6575 - accuracy: 0.8182\n",
            "Epoch 110/200\n",
            "1/1 [==============================] - 0s 12ms/step - loss: 0.6465 - accuracy: 0.8182\n",
            "Epoch 111/200\n",
            "1/1 [==============================] - 0s 11ms/step - loss: 0.6357 - accuracy: 0.8182\n",
            "Epoch 112/200\n",
            "1/1 [==============================] - 0s 12ms/step - loss: 0.6252 - accuracy: 0.8182\n",
            "Epoch 113/200\n",
            "1/1 [==============================] - 0s 11ms/step - loss: 0.6149 - accuracy: 0.8182\n",
            "Epoch 114/200\n",
            "1/1 [==============================] - 0s 11ms/step - loss: 0.6049 - accuracy: 0.8182\n",
            "Epoch 115/200\n",
            "1/1 [==============================] - 0s 11ms/step - loss: 0.5951 - accuracy: 0.8182\n",
            "Epoch 116/200\n",
            "1/1 [==============================] - 0s 11ms/step - loss: 0.5856 - accuracy: 0.8182\n",
            "Epoch 117/200\n",
            "1/1 [==============================] - 0s 12ms/step - loss: 0.5762 - accuracy: 0.8182\n",
            "Epoch 118/200\n",
            "1/1 [==============================] - 0s 12ms/step - loss: 0.5671 - accuracy: 0.9091\n",
            "Epoch 119/200\n",
            "1/1 [==============================] - 0s 11ms/step - loss: 0.5582 - accuracy: 0.9091\n",
            "Epoch 120/200\n",
            "1/1 [==============================] - 0s 13ms/step - loss: 0.5495 - accuracy: 0.9091\n",
            "Epoch 121/200\n",
            "1/1 [==============================] - 0s 11ms/step - loss: 0.5410 - accuracy: 0.9091\n",
            "Epoch 122/200\n",
            "1/1 [==============================] - 0s 12ms/step - loss: 0.5326 - accuracy: 0.9091\n",
            "Epoch 123/200\n",
            "1/1 [==============================] - 0s 13ms/step - loss: 0.5245 - accuracy: 0.9091\n",
            "Epoch 124/200\n",
            "1/1 [==============================] - 0s 18ms/step - loss: 0.5165 - accuracy: 0.9091\n",
            "Epoch 125/200\n",
            "1/1 [==============================] - 0s 16ms/step - loss: 0.5087 - accuracy: 0.9091\n",
            "Epoch 126/200\n",
            "1/1 [==============================] - 0s 12ms/step - loss: 0.5010 - accuracy: 0.9091\n",
            "Epoch 127/200\n",
            "1/1 [==============================] - 0s 13ms/step - loss: 0.4936 - accuracy: 0.9091\n",
            "Epoch 128/200\n",
            "1/1 [==============================] - 0s 13ms/step - loss: 0.4862 - accuracy: 0.9091\n",
            "Epoch 129/200\n",
            "1/1 [==============================] - 0s 12ms/step - loss: 0.4790 - accuracy: 0.9091\n",
            "Epoch 130/200\n",
            "1/1 [==============================] - 0s 13ms/step - loss: 0.4720 - accuracy: 0.9091\n",
            "Epoch 131/200\n",
            "1/1 [==============================] - 0s 12ms/step - loss: 0.4651 - accuracy: 0.9091\n",
            "Epoch 132/200\n",
            "1/1 [==============================] - 0s 15ms/step - loss: 0.4583 - accuracy: 0.9091\n",
            "Epoch 133/200\n",
            "1/1 [==============================] - 0s 19ms/step - loss: 0.4517 - accuracy: 0.9091\n",
            "Epoch 134/200\n",
            "1/1 [==============================] - 0s 12ms/step - loss: 0.4452 - accuracy: 0.9091\n",
            "Epoch 135/200\n",
            "1/1 [==============================] - 0s 12ms/step - loss: 0.4388 - accuracy: 0.9091\n",
            "Epoch 136/200\n",
            "1/1 [==============================] - 0s 13ms/step - loss: 0.4325 - accuracy: 0.9091\n",
            "Epoch 137/200\n",
            "1/1 [==============================] - 0s 12ms/step - loss: 0.4263 - accuracy: 0.9091\n",
            "Epoch 138/200\n",
            "1/1 [==============================] - 0s 12ms/step - loss: 0.4202 - accuracy: 0.9091\n",
            "Epoch 139/200\n",
            "1/1 [==============================] - 0s 13ms/step - loss: 0.4142 - accuracy: 0.9091\n",
            "Epoch 140/200\n",
            "1/1 [==============================] - 0s 13ms/step - loss: 0.4084 - accuracy: 0.9091\n",
            "Epoch 141/200\n",
            "1/1 [==============================] - 0s 13ms/step - loss: 0.4026 - accuracy: 0.9091\n",
            "Epoch 142/200\n",
            "1/1 [==============================] - 0s 12ms/step - loss: 0.3969 - accuracy: 0.9091\n",
            "Epoch 143/200\n",
            "1/1 [==============================] - 0s 13ms/step - loss: 0.3913 - accuracy: 0.9091\n",
            "Epoch 144/200\n",
            "1/1 [==============================] - 0s 12ms/step - loss: 0.3858 - accuracy: 0.9091\n",
            "Epoch 145/200\n",
            "1/1 [==============================] - 0s 12ms/step - loss: 0.3804 - accuracy: 0.9091\n",
            "Epoch 146/200\n",
            "1/1 [==============================] - 0s 12ms/step - loss: 0.3751 - accuracy: 0.9091\n",
            "Epoch 147/200\n",
            "1/1 [==============================] - 0s 13ms/step - loss: 0.3698 - accuracy: 0.9091\n",
            "Epoch 148/200\n",
            "1/1 [==============================] - 0s 13ms/step - loss: 0.3646 - accuracy: 0.9091\n",
            "Epoch 149/200\n",
            "1/1 [==============================] - 0s 12ms/step - loss: 0.3595 - accuracy: 0.9091\n",
            "Epoch 150/200\n",
            "1/1 [==============================] - 0s 12ms/step - loss: 0.3544 - accuracy: 0.9091\n",
            "Epoch 151/200\n",
            "1/1 [==============================] - 0s 12ms/step - loss: 0.3495 - accuracy: 0.9091\n",
            "Epoch 152/200\n",
            "1/1 [==============================] - 0s 11ms/step - loss: 0.3446 - accuracy: 0.9091\n",
            "Epoch 153/200\n",
            "1/1 [==============================] - 0s 12ms/step - loss: 0.3397 - accuracy: 0.9091\n",
            "Epoch 154/200\n",
            "1/1 [==============================] - 0s 12ms/step - loss: 0.3350 - accuracy: 0.9091\n",
            "Epoch 155/200\n",
            "1/1 [==============================] - 0s 12ms/step - loss: 0.3302 - accuracy: 0.9091\n",
            "Epoch 156/200\n",
            "1/1 [==============================] - 0s 13ms/step - loss: 0.3256 - accuracy: 0.9091\n",
            "Epoch 157/200\n",
            "1/1 [==============================] - 0s 15ms/step - loss: 0.3210 - accuracy: 0.9091\n",
            "Epoch 158/200\n",
            "1/1 [==============================] - 0s 12ms/step - loss: 0.3165 - accuracy: 0.9091\n",
            "Epoch 159/200\n",
            "1/1 [==============================] - 0s 12ms/step - loss: 0.3120 - accuracy: 0.9091\n",
            "Epoch 160/200\n",
            "1/1 [==============================] - 0s 13ms/step - loss: 0.3076 - accuracy: 0.9091\n",
            "Epoch 161/200\n",
            "1/1 [==============================] - 0s 12ms/step - loss: 0.3032 - accuracy: 0.9091\n",
            "Epoch 162/200\n",
            "1/1 [==============================] - 0s 11ms/step - loss: 0.2989 - accuracy: 0.9091\n",
            "Epoch 163/200\n",
            "1/1 [==============================] - 0s 13ms/step - loss: 0.2946 - accuracy: 0.9091\n",
            "Epoch 164/200\n",
            "1/1 [==============================] - 0s 14ms/step - loss: 0.2904 - accuracy: 0.9091\n",
            "Epoch 165/200\n",
            "1/1 [==============================] - 0s 11ms/step - loss: 0.2863 - accuracy: 0.9091\n",
            "Epoch 166/200\n",
            "1/1 [==============================] - 0s 13ms/step - loss: 0.2822 - accuracy: 0.9091\n",
            "Epoch 167/200\n",
            "1/1 [==============================] - 0s 10ms/step - loss: 0.2781 - accuracy: 0.9091\n",
            "Epoch 168/200\n",
            "1/1 [==============================] - 0s 17ms/step - loss: 0.2741 - accuracy: 0.9091\n",
            "Epoch 169/200\n",
            "1/1 [==============================] - 0s 12ms/step - loss: 0.2702 - accuracy: 0.9091\n",
            "Epoch 170/200\n",
            "1/1 [==============================] - 0s 12ms/step - loss: 0.2663 - accuracy: 0.9091\n",
            "Epoch 171/200\n",
            "1/1 [==============================] - 0s 13ms/step - loss: 0.2624 - accuracy: 0.9091\n",
            "Epoch 172/200\n",
            "1/1 [==============================] - 0s 17ms/step - loss: 0.2586 - accuracy: 0.9091\n",
            "Epoch 173/200\n",
            "1/1 [==============================] - 0s 11ms/step - loss: 0.2548 - accuracy: 0.9091\n",
            "Epoch 174/200\n",
            "1/1 [==============================] - 0s 13ms/step - loss: 0.2511 - accuracy: 0.9091\n",
            "Epoch 175/200\n",
            "1/1 [==============================] - 0s 15ms/step - loss: 0.2474 - accuracy: 0.9091\n",
            "Epoch 176/200\n",
            "1/1 [==============================] - 0s 13ms/step - loss: 0.2438 - accuracy: 0.9091\n",
            "Epoch 177/200\n",
            "1/1 [==============================] - 0s 13ms/step - loss: 0.2402 - accuracy: 0.9091\n",
            "Epoch 178/200\n",
            "1/1 [==============================] - 0s 12ms/step - loss: 0.2367 - accuracy: 0.9091\n",
            "Epoch 179/200\n",
            "1/1 [==============================] - 0s 12ms/step - loss: 0.2332 - accuracy: 0.9091\n",
            "Epoch 180/200\n",
            "1/1 [==============================] - 0s 13ms/step - loss: 0.2297 - accuracy: 0.9091\n",
            "Epoch 181/200\n",
            "1/1 [==============================] - 0s 13ms/step - loss: 0.2263 - accuracy: 0.9091\n",
            "Epoch 182/200\n",
            "1/1 [==============================] - 0s 15ms/step - loss: 0.2230 - accuracy: 0.9091\n",
            "Epoch 183/200\n",
            "1/1 [==============================] - 0s 13ms/step - loss: 0.2196 - accuracy: 0.9091\n",
            "Epoch 184/200\n",
            "1/1 [==============================] - 0s 12ms/step - loss: 0.2163 - accuracy: 0.9091\n",
            "Epoch 185/200\n",
            "1/1 [==============================] - 0s 12ms/step - loss: 0.2131 - accuracy: 0.9091\n",
            "Epoch 186/200\n",
            "1/1 [==============================] - 0s 12ms/step - loss: 0.2099 - accuracy: 0.9091\n",
            "Epoch 187/200\n",
            "1/1 [==============================] - 0s 11ms/step - loss: 0.2067 - accuracy: 0.9091\n",
            "Epoch 188/200\n",
            "1/1 [==============================] - 0s 11ms/step - loss: 0.2036 - accuracy: 0.9091\n",
            "Epoch 189/200\n",
            "1/1 [==============================] - 0s 12ms/step - loss: 0.2005 - accuracy: 0.9091\n",
            "Epoch 190/200\n",
            "1/1 [==============================] - 0s 11ms/step - loss: 0.1975 - accuracy: 1.0000\n",
            "Epoch 191/200\n",
            "1/1 [==============================] - 0s 12ms/step - loss: 0.1945 - accuracy: 1.0000\n",
            "Epoch 192/200\n",
            "1/1 [==============================] - 0s 12ms/step - loss: 0.1915 - accuracy: 1.0000\n",
            "Epoch 193/200\n",
            "1/1 [==============================] - 0s 12ms/step - loss: 0.1886 - accuracy: 1.0000\n",
            "Epoch 194/200\n",
            "1/1 [==============================] - 0s 14ms/step - loss: 0.1857 - accuracy: 1.0000\n",
            "Epoch 195/200\n",
            "1/1 [==============================] - 0s 15ms/step - loss: 0.1828 - accuracy: 1.0000\n",
            "Epoch 196/200\n",
            "1/1 [==============================] - 0s 14ms/step - loss: 0.1800 - accuracy: 1.0000\n",
            "Epoch 197/200\n",
            "1/1 [==============================] - 0s 13ms/step - loss: 0.1772 - accuracy: 1.0000\n",
            "Epoch 198/200\n",
            "1/1 [==============================] - 0s 12ms/step - loss: 0.1744 - accuracy: 1.0000\n",
            "Epoch 199/200\n",
            "1/1 [==============================] - 0s 13ms/step - loss: 0.1717 - accuracy: 1.0000\n",
            "Epoch 200/200\n",
            "1/1 [==============================] - 0s 11ms/step - loss: 0.1690 - accuracy: 1.0000\n"
          ]
        },
        {
          "output_type": "execute_result",
          "data": {
            "text/plain": [
              "<keras.src.callbacks.History at 0x789107fbfd00>"
            ]
          },
          "metadata": {},
          "execution_count": 12
        }
      ]
    },
    {
      "cell_type": "code",
      "source": [
        "# 학습 모델 사용해서 텍스트 생성기능 만들기\n",
        "# 사용할 모델, 토크나이저, 입력 단어, 생성할 단어 수\n",
        "def make_sentence(model, t, current_word, n):\n",
        "  init_word = current_word # 마지막에 같이 출력하기 위함\n",
        "  sentence = ''\n",
        "  for _ in range(n):\n",
        "    encoded = t.texts_to_sequences([current_word])[0]\n",
        "    print(encoded) # 번호 확인\n",
        "    print(current_word) # 입력 단어 확인\n",
        "    # 데이터를 같은 길이(5)로 맞춰주기\n",
        "    encoded = pad_sequences([encoded], maxlen = max_len - 1)\n",
        "    # 입력한 단어로 예측하기\n",
        "    result = model.predict(encoded, verbose = 0).argmax(axis= -1)\n",
        "    for word, index in t.word_index.items():\n",
        "      if index == result:\n",
        "        break\n",
        "\n",
        "    # 현재단어 + \" \" + 예측단어를 현재 단어로 변경\n",
        "    current_word = current_word + \" \" + word\n",
        "\n",
        "    sentence = sentence + \" \" + word\n",
        "  # 문장 생성\n",
        "  sentence = init_word + sentence\n",
        "\n",
        "  return sentence"
      ],
      "metadata": {
        "id": "Jez1GPxye9Xx"
      },
      "execution_count": 13,
      "outputs": []
    },
    {
      "cell_type": "code",
      "source": [
        "# 인공지능 딥러닝 모델, 토큰화 모델, 시작 단어\n",
        "# 경마장에 있는 말이 뛰고 있다\n",
        "# 그의 말이 법이다\n",
        "# 가는 말이 고와야 오는 말이 곱다\n",
        "print(make_sentence(model1, t, '경마장에', 4))"
      ],
      "metadata": {
        "colab": {
          "base_uri": "https://localhost:8080/"
        },
        "id": "3M2TK-qMe9Vc",
        "outputId": "af373ef8-864f-4d6d-f8ff-02188f071efc"
      },
      "execution_count": 15,
      "outputs": [
        {
          "output_type": "stream",
          "name": "stdout",
          "text": [
            "[2]\n",
            "경마장에\n",
            "[2, 3]\n",
            "경마장에 있는\n",
            "[2, 3, 1]\n",
            "경마장에 있는 말이\n",
            "[2, 3, 1, 4]\n",
            "경마장에 있는 말이 뛰고\n",
            "경마장에 있는 말이 뛰고 있다\n"
          ]
        }
      ]
    },
    {
      "cell_type": "code",
      "source": [
        "print(make_sentence(model1, t, '그의', 2))"
      ],
      "metadata": {
        "colab": {
          "base_uri": "https://localhost:8080/"
        },
        "id": "NXQ3orF-e9TF",
        "outputId": "64119d6b-77a9-40fa-9a46-26337d91a547"
      },
      "execution_count": 18,
      "outputs": [
        {
          "output_type": "stream",
          "name": "stdout",
          "text": [
            "[6]\n",
            "그의\n",
            "[6, 1]\n",
            "그의 말이\n",
            "그의 말이 법이다\n"
          ]
        }
      ]
    },
    {
      "cell_type": "code",
      "source": [
        "print(make_sentence(model1, t, '가는', 5))"
      ],
      "metadata": {
        "colab": {
          "base_uri": "https://localhost:8080/"
        },
        "id": "MGLF4Kq2e9Qf",
        "outputId": "b7f9507b-9dc9-42aa-9f7f-34bfd202d12b"
      },
      "execution_count": 19,
      "outputs": [
        {
          "output_type": "stream",
          "name": "stdout",
          "text": [
            "[8]\n",
            "가는\n",
            "[8, 1]\n",
            "가는 말이\n",
            "[8, 1, 9]\n",
            "가는 말이 고와야\n",
            "[8, 1, 9, 10]\n",
            "가는 말이 고와야 오는\n",
            "[8, 1, 9, 10, 1]\n",
            "가는 말이 고와야 오는 말이\n",
            "가는 말이 고와야 오는 말이 곱다\n"
          ]
        }
      ]
    },
    {
      "cell_type": "code",
      "source": [],
      "metadata": {
        "id": "d9SwHcv6e9N-"
      },
      "execution_count": null,
      "outputs": []
    },
    {
      "cell_type": "code",
      "source": [],
      "metadata": {
        "id": "zEshHVdue9Lm"
      },
      "execution_count": null,
      "outputs": []
    },
    {
      "cell_type": "code",
      "source": [],
      "metadata": {
        "id": "JYj2-R6Me9JO"
      },
      "execution_count": null,
      "outputs": []
    },
    {
      "cell_type": "code",
      "source": [],
      "metadata": {
        "id": "iJ-Jr_Jxe9G-"
      },
      "execution_count": null,
      "outputs": []
    },
    {
      "cell_type": "code",
      "source": [],
      "metadata": {
        "id": "sYqWv5lSe9Em"
      },
      "execution_count": null,
      "outputs": []
    },
    {
      "cell_type": "code",
      "source": [],
      "metadata": {
        "id": "5PDjwOLve9CX"
      },
      "execution_count": null,
      "outputs": []
    },
    {
      "cell_type": "code",
      "source": [],
      "metadata": {
        "id": "G3qIwHyGe8_-"
      },
      "execution_count": null,
      "outputs": []
    }
  ]
}