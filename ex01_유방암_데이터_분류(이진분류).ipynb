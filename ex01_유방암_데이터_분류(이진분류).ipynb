{
  "nbformat": 4,
  "nbformat_minor": 0,
  "metadata": {
    "colab": {
      "provenance": [],
      "authorship_tag": "ABX9TyMopl5H06LiZY859U8K2Urp",
      "include_colab_link": true
    },
    "kernelspec": {
      "name": "python3",
      "display_name": "Python 3"
    },
    "language_info": {
      "name": "python"
    }
  },
  "cells": [
    {
      "cell_type": "markdown",
      "metadata": {
        "id": "view-in-github",
        "colab_type": "text"
      },
      "source": [
        "<a href=\"https://colab.research.google.com/github/rimgosu/ColabBackup/blob/master/ex01_%EC%9C%A0%EB%B0%A9%EC%95%94_%EB%8D%B0%EC%9D%B4%ED%84%B0_%EB%B6%84%EB%A5%98(%EC%9D%B4%EC%A7%84%EB%B6%84%EB%A5%98).ipynb\" target=\"_parent\"><img src=\"https://colab.research.google.com/assets/colab-badge.svg\" alt=\"Open In Colab\"/></a>"
      ]
    },
    {
      "cell_type": "markdown",
      "source": [
        "### 목표\n",
        "- 환자 데이터를 바탕으로 유방암인지 아닌지를 구분해보자\n",
        "- 딥러닝으로 이진분류 실습을 진행하자"
      ],
      "metadata": {
        "id": "W7Qg80127hKc"
      }
    },
    {
      "cell_type": "code",
      "source": [
        "# 라이브러리 불러오기\n",
        "import numpy as np\n",
        "import pandas as pd\n",
        "import matplotlib.pyplot as plt"
      ],
      "metadata": {
        "id": "6Rn0zheS7z58"
      },
      "execution_count": null,
      "outputs": []
    },
    {
      "cell_type": "code",
      "source": [
        "from sklearn.datasets import load_breast_cancer # 사이킷런 내장 유방암 데이터\n",
        "breast_data = load_breast_cancer()\n",
        "print(breast_data)"
      ],
      "metadata": {
        "colab": {
          "base_uri": "https://localhost:8080/"
        },
        "id": "O0FyOavi7z9N",
        "outputId": "e1a0750a-50ec-40e0-f0d5-26713d21506c"
      },
      "execution_count": null,
      "outputs": [
        {
          "output_type": "stream",
          "name": "stdout",
          "text": [
            "{'data': array([[1.799e+01, 1.038e+01, 1.228e+02, ..., 2.654e-01, 4.601e-01,\n",
            "        1.189e-01],\n",
            "       [2.057e+01, 1.777e+01, 1.329e+02, ..., 1.860e-01, 2.750e-01,\n",
            "        8.902e-02],\n",
            "       [1.969e+01, 2.125e+01, 1.300e+02, ..., 2.430e-01, 3.613e-01,\n",
            "        8.758e-02],\n",
            "       ...,\n",
            "       [1.660e+01, 2.808e+01, 1.083e+02, ..., 1.418e-01, 2.218e-01,\n",
            "        7.820e-02],\n",
            "       [2.060e+01, 2.933e+01, 1.401e+02, ..., 2.650e-01, 4.087e-01,\n",
            "        1.240e-01],\n",
            "       [7.760e+00, 2.454e+01, 4.792e+01, ..., 0.000e+00, 2.871e-01,\n",
            "        7.039e-02]]), 'target': array([0, 0, 0, 0, 0, 0, 0, 0, 0, 0, 0, 0, 0, 0, 0, 0, 0, 0, 0, 1, 1, 1,\n",
            "       0, 0, 0, 0, 0, 0, 0, 0, 0, 0, 0, 0, 0, 0, 0, 1, 0, 0, 0, 0, 0, 0,\n",
            "       0, 0, 1, 0, 1, 1, 1, 1, 1, 0, 0, 1, 0, 0, 1, 1, 1, 1, 0, 1, 0, 0,\n",
            "       1, 1, 1, 1, 0, 1, 0, 0, 1, 0, 1, 0, 0, 1, 1, 1, 0, 0, 1, 0, 0, 0,\n",
            "       1, 1, 1, 0, 1, 1, 0, 0, 1, 1, 1, 0, 0, 1, 1, 1, 1, 0, 1, 1, 0, 1,\n",
            "       1, 1, 1, 1, 1, 1, 1, 0, 0, 0, 1, 0, 0, 1, 1, 1, 0, 0, 1, 0, 1, 0,\n",
            "       0, 1, 0, 0, 1, 1, 0, 1, 1, 0, 1, 1, 1, 1, 0, 1, 1, 1, 1, 1, 1, 1,\n",
            "       1, 1, 0, 1, 1, 1, 1, 0, 0, 1, 0, 1, 1, 0, 0, 1, 1, 0, 0, 1, 1, 1,\n",
            "       1, 0, 1, 1, 0, 0, 0, 1, 0, 1, 0, 1, 1, 1, 0, 1, 1, 0, 0, 1, 0, 0,\n",
            "       0, 0, 1, 0, 0, 0, 1, 0, 1, 0, 1, 1, 0, 1, 0, 0, 0, 0, 1, 1, 0, 0,\n",
            "       1, 1, 1, 0, 1, 1, 1, 1, 1, 0, 0, 1, 1, 0, 1, 1, 0, 0, 1, 0, 1, 1,\n",
            "       1, 1, 0, 1, 1, 1, 1, 1, 0, 1, 0, 0, 0, 0, 0, 0, 0, 0, 0, 0, 0, 0,\n",
            "       0, 0, 1, 1, 1, 1, 1, 1, 0, 1, 0, 1, 1, 0, 1, 1, 0, 1, 0, 0, 1, 1,\n",
            "       1, 1, 1, 1, 1, 1, 1, 1, 1, 1, 1, 0, 1, 1, 0, 1, 0, 1, 1, 1, 1, 1,\n",
            "       1, 1, 1, 1, 1, 1, 1, 1, 1, 0, 1, 1, 1, 0, 1, 0, 1, 1, 1, 1, 0, 0,\n",
            "       0, 1, 1, 1, 1, 0, 1, 0, 1, 0, 1, 1, 1, 0, 1, 1, 1, 1, 1, 1, 1, 0,\n",
            "       0, 0, 1, 1, 1, 1, 1, 1, 1, 1, 1, 1, 1, 0, 0, 1, 0, 0, 0, 1, 0, 0,\n",
            "       1, 1, 1, 1, 1, 0, 1, 1, 1, 1, 1, 0, 1, 1, 1, 0, 1, 1, 0, 0, 1, 1,\n",
            "       1, 1, 1, 1, 0, 1, 1, 1, 1, 1, 1, 1, 0, 1, 1, 1, 1, 1, 0, 1, 1, 0,\n",
            "       1, 1, 1, 1, 1, 1, 1, 1, 1, 1, 1, 1, 0, 1, 0, 0, 1, 0, 1, 1, 1, 1,\n",
            "       1, 0, 1, 1, 0, 1, 0, 1, 1, 0, 1, 0, 1, 1, 1, 1, 1, 1, 1, 1, 0, 0,\n",
            "       1, 1, 1, 1, 1, 1, 0, 1, 1, 1, 1, 1, 1, 1, 1, 1, 1, 0, 1, 1, 1, 1,\n",
            "       1, 1, 1, 0, 1, 0, 1, 1, 0, 1, 1, 1, 1, 1, 0, 0, 1, 0, 1, 0, 1, 1,\n",
            "       1, 1, 1, 0, 1, 1, 0, 1, 0, 1, 0, 0, 1, 1, 1, 0, 1, 1, 1, 1, 1, 1,\n",
            "       1, 1, 1, 1, 1, 0, 1, 0, 0, 1, 1, 1, 1, 1, 1, 1, 1, 1, 1, 1, 1, 1,\n",
            "       1, 1, 1, 1, 1, 1, 1, 1, 1, 1, 1, 1, 0, 0, 0, 0, 0, 0, 1]), 'frame': None, 'target_names': array(['malignant', 'benign'], dtype='<U9'), 'DESCR': '.. _breast_cancer_dataset:\\n\\nBreast cancer wisconsin (diagnostic) dataset\\n--------------------------------------------\\n\\n**Data Set Characteristics:**\\n\\n    :Number of Instances: 569\\n\\n    :Number of Attributes: 30 numeric, predictive attributes and the class\\n\\n    :Attribute Information:\\n        - radius (mean of distances from center to points on the perimeter)\\n        - texture (standard deviation of gray-scale values)\\n        - perimeter\\n        - area\\n        - smoothness (local variation in radius lengths)\\n        - compactness (perimeter^2 / area - 1.0)\\n        - concavity (severity of concave portions of the contour)\\n        - concave points (number of concave portions of the contour)\\n        - symmetry\\n        - fractal dimension (\"coastline approximation\" - 1)\\n\\n        The mean, standard error, and \"worst\" or largest (mean of the three\\n        worst/largest values) of these features were computed for each image,\\n        resulting in 30 features.  For instance, field 0 is Mean Radius, field\\n        10 is Radius SE, field 20 is Worst Radius.\\n\\n        - class:\\n                - WDBC-Malignant\\n                - WDBC-Benign\\n\\n    :Summary Statistics:\\n\\n    ===================================== ====== ======\\n                                           Min    Max\\n    ===================================== ====== ======\\n    radius (mean):                        6.981  28.11\\n    texture (mean):                       9.71   39.28\\n    perimeter (mean):                     43.79  188.5\\n    area (mean):                          143.5  2501.0\\n    smoothness (mean):                    0.053  0.163\\n    compactness (mean):                   0.019  0.345\\n    concavity (mean):                     0.0    0.427\\n    concave points (mean):                0.0    0.201\\n    symmetry (mean):                      0.106  0.304\\n    fractal dimension (mean):             0.05   0.097\\n    radius (standard error):              0.112  2.873\\n    texture (standard error):             0.36   4.885\\n    perimeter (standard error):           0.757  21.98\\n    area (standard error):                6.802  542.2\\n    smoothness (standard error):          0.002  0.031\\n    compactness (standard error):         0.002  0.135\\n    concavity (standard error):           0.0    0.396\\n    concave points (standard error):      0.0    0.053\\n    symmetry (standard error):            0.008  0.079\\n    fractal dimension (standard error):   0.001  0.03\\n    radius (worst):                       7.93   36.04\\n    texture (worst):                      12.02  49.54\\n    perimeter (worst):                    50.41  251.2\\n    area (worst):                         185.2  4254.0\\n    smoothness (worst):                   0.071  0.223\\n    compactness (worst):                  0.027  1.058\\n    concavity (worst):                    0.0    1.252\\n    concave points (worst):               0.0    0.291\\n    symmetry (worst):                     0.156  0.664\\n    fractal dimension (worst):            0.055  0.208\\n    ===================================== ====== ======\\n\\n    :Missing Attribute Values: None\\n\\n    :Class Distribution: 212 - Malignant, 357 - Benign\\n\\n    :Creator:  Dr. William H. Wolberg, W. Nick Street, Olvi L. Mangasarian\\n\\n    :Donor: Nick Street\\n\\n    :Date: November, 1995\\n\\nThis is a copy of UCI ML Breast Cancer Wisconsin (Diagnostic) datasets.\\nhttps://goo.gl/U2Uwz2\\n\\nFeatures are computed from a digitized image of a fine needle\\naspirate (FNA) of a breast mass.  They describe\\ncharacteristics of the cell nuclei present in the image.\\n\\nSeparating plane described above was obtained using\\nMultisurface Method-Tree (MSM-T) [K. P. Bennett, \"Decision Tree\\nConstruction Via Linear Programming.\" Proceedings of the 4th\\nMidwest Artificial Intelligence and Cognitive Science Society,\\npp. 97-101, 1992], a classification method which uses linear\\nprogramming to construct a decision tree.  Relevant features\\nwere selected using an exhaustive search in the space of 1-4\\nfeatures and 1-3 separating planes.\\n\\nThe actual linear program used to obtain the separating plane\\nin the 3-dimensional space is that described in:\\n[K. P. Bennett and O. L. Mangasarian: \"Robust Linear\\nProgramming Discrimination of Two Linearly Inseparable Sets\",\\nOptimization Methods and Software 1, 1992, 23-34].\\n\\nThis database is also available through the UW CS ftp server:\\n\\nftp ftp.cs.wisc.edu\\ncd math-prog/cpo-dataset/machine-learn/WDBC/\\n\\n.. topic:: References\\n\\n   - W.N. Street, W.H. Wolberg and O.L. Mangasarian. Nuclear feature extraction \\n     for breast tumor diagnosis. IS&T/SPIE 1993 International Symposium on \\n     Electronic Imaging: Science and Technology, volume 1905, pages 861-870,\\n     San Jose, CA, 1993.\\n   - O.L. Mangasarian, W.N. Street and W.H. Wolberg. Breast cancer diagnosis and \\n     prognosis via linear programming. Operations Research, 43(4), pages 570-577, \\n     July-August 1995.\\n   - W.H. Wolberg, W.N. Street, and O.L. Mangasarian. Machine learning techniques\\n     to diagnose breast cancer from fine-needle aspirates. Cancer Letters 77 (1994) \\n     163-171.', 'feature_names': array(['mean radius', 'mean texture', 'mean perimeter', 'mean area',\n",
            "       'mean smoothness', 'mean compactness', 'mean concavity',\n",
            "       'mean concave points', 'mean symmetry', 'mean fractal dimension',\n",
            "       'radius error', 'texture error', 'perimeter error', 'area error',\n",
            "       'smoothness error', 'compactness error', 'concavity error',\n",
            "       'concave points error', 'symmetry error',\n",
            "       'fractal dimension error', 'worst radius', 'worst texture',\n",
            "       'worst perimeter', 'worst area', 'worst smoothness',\n",
            "       'worst compactness', 'worst concavity', 'worst concave points',\n",
            "       'worst symmetry', 'worst fractal dimension'], dtype='<U23'), 'filename': 'breast_cancer.csv', 'data_module': 'sklearn.datasets.data'}\n"
          ]
        }
      ]
    },
    {
      "cell_type": "code",
      "source": [
        "breast_data.keys()\n",
        "# data : 문제데이터, 입력특성\n",
        "# target : 정답데이터\n",
        "# target_names : 정답데이터의 이름"
      ],
      "metadata": {
        "colab": {
          "base_uri": "https://localhost:8080/"
        },
        "id": "4H8IUCby7z_j",
        "outputId": "ad041af9-8941-4966-f324-c2848ead2abd"
      },
      "execution_count": null,
      "outputs": [
        {
          "output_type": "execute_result",
          "data": {
            "text/plain": [
              "dict_keys(['data', 'target', 'frame', 'target_names', 'DESCR', 'feature_names', 'filename', 'data_module'])"
            ]
          },
          "metadata": {},
          "execution_count": 3
        }
      ]
    },
    {
      "cell_type": "code",
      "source": [
        "# 정답데이터 확인\n",
        "breast_data.target_names\n",
        "# 0 == malignant (악성)\n",
        "# 1 == benign (양성)\n",
        "# 클래스 개수 : 2개 => 이진분류"
      ],
      "metadata": {
        "colab": {
          "base_uri": "https://localhost:8080/"
        },
        "id": "Xn8jrfMN70CZ",
        "outputId": "3003c378-3ea4-4370-e3b2-00594313b36d"
      },
      "execution_count": null,
      "outputs": [
        {
          "output_type": "execute_result",
          "data": {
            "text/plain": [
              "array(['malignant', 'benign'], dtype='<U9')"
            ]
          },
          "metadata": {},
          "execution_count": 4
        }
      ]
    },
    {
      "cell_type": "code",
      "source": [
        "# 문제, 정답 분리\n",
        "# 문제 X, 정답 y\n",
        "X = pd.DataFrame(breast_data.data)\n",
        "\n",
        "y = pd.DataFrame(breast_data.target)\n",
        "X, y"
      ],
      "metadata": {
        "colab": {
          "base_uri": "https://localhost:8080/"
        },
        "id": "ejjk4oAG70Ev",
        "outputId": "3895f2fa-677e-464b-8423-29b431d4b80c"
      },
      "execution_count": null,
      "outputs": [
        {
          "output_type": "execute_result",
          "data": {
            "text/plain": [
              "(        0      1       2       3        4        5        6        7       8   \\\n",
              " 0    17.99  10.38  122.80  1001.0  0.11840  0.27760  0.30010  0.14710  0.2419   \n",
              " 1    20.57  17.77  132.90  1326.0  0.08474  0.07864  0.08690  0.07017  0.1812   \n",
              " 2    19.69  21.25  130.00  1203.0  0.10960  0.15990  0.19740  0.12790  0.2069   \n",
              " 3    11.42  20.38   77.58   386.1  0.14250  0.28390  0.24140  0.10520  0.2597   \n",
              " 4    20.29  14.34  135.10  1297.0  0.10030  0.13280  0.19800  0.10430  0.1809   \n",
              " ..     ...    ...     ...     ...      ...      ...      ...      ...     ...   \n",
              " 564  21.56  22.39  142.00  1479.0  0.11100  0.11590  0.24390  0.13890  0.1726   \n",
              " 565  20.13  28.25  131.20  1261.0  0.09780  0.10340  0.14400  0.09791  0.1752   \n",
              " 566  16.60  28.08  108.30   858.1  0.08455  0.10230  0.09251  0.05302  0.1590   \n",
              " 567  20.60  29.33  140.10  1265.0  0.11780  0.27700  0.35140  0.15200  0.2397   \n",
              " 568   7.76  24.54   47.92   181.0  0.05263  0.04362  0.00000  0.00000  0.1587   \n",
              " \n",
              "           9   ...      20     21      22      23       24       25      26  \\\n",
              " 0    0.07871  ...  25.380  17.33  184.60  2019.0  0.16220  0.66560  0.7119   \n",
              " 1    0.05667  ...  24.990  23.41  158.80  1956.0  0.12380  0.18660  0.2416   \n",
              " 2    0.05999  ...  23.570  25.53  152.50  1709.0  0.14440  0.42450  0.4504   \n",
              " 3    0.09744  ...  14.910  26.50   98.87   567.7  0.20980  0.86630  0.6869   \n",
              " 4    0.05883  ...  22.540  16.67  152.20  1575.0  0.13740  0.20500  0.4000   \n",
              " ..       ...  ...     ...    ...     ...     ...      ...      ...     ...   \n",
              " 564  0.05623  ...  25.450  26.40  166.10  2027.0  0.14100  0.21130  0.4107   \n",
              " 565  0.05533  ...  23.690  38.25  155.00  1731.0  0.11660  0.19220  0.3215   \n",
              " 566  0.05648  ...  18.980  34.12  126.70  1124.0  0.11390  0.30940  0.3403   \n",
              " 567  0.07016  ...  25.740  39.42  184.60  1821.0  0.16500  0.86810  0.9387   \n",
              " 568  0.05884  ...   9.456  30.37   59.16   268.6  0.08996  0.06444  0.0000   \n",
              " \n",
              "          27      28       29  \n",
              " 0    0.2654  0.4601  0.11890  \n",
              " 1    0.1860  0.2750  0.08902  \n",
              " 2    0.2430  0.3613  0.08758  \n",
              " 3    0.2575  0.6638  0.17300  \n",
              " 4    0.1625  0.2364  0.07678  \n",
              " ..      ...     ...      ...  \n",
              " 564  0.2216  0.2060  0.07115  \n",
              " 565  0.1628  0.2572  0.06637  \n",
              " 566  0.1418  0.2218  0.07820  \n",
              " 567  0.2650  0.4087  0.12400  \n",
              " 568  0.0000  0.2871  0.07039  \n",
              " \n",
              " [569 rows x 30 columns],\n",
              "      0\n",
              " 0    0\n",
              " 1    0\n",
              " 2    0\n",
              " 3    0\n",
              " 4    0\n",
              " ..  ..\n",
              " 564  0\n",
              " 565  0\n",
              " 566  0\n",
              " 567  0\n",
              " 568  1\n",
              " \n",
              " [569 rows x 1 columns])"
            ]
          },
          "metadata": {},
          "execution_count": 5
        }
      ]
    },
    {
      "cell_type": "code",
      "source": [
        "# train, test 분리\n",
        "from sklearn.model_selection import train_test_split"
      ],
      "metadata": {
        "id": "sFfXS5gh70HF"
      },
      "execution_count": null,
      "outputs": []
    },
    {
      "cell_type": "code",
      "source": [
        "X_train, X_test, y_train, y_test = train_test_split(X, y, test_size=0.2, random_state=2000)"
      ],
      "metadata": {
        "id": "1CmaQJP1-wxL"
      },
      "execution_count": null,
      "outputs": []
    },
    {
      "cell_type": "markdown",
      "source": [],
      "metadata": {
        "id": "4AdFlXEr_Y72"
      }
    },
    {
      "cell_type": "code",
      "source": [
        "print(X_train.shape, y_train.shape)\n",
        "print(X_test.shape, y_test.shape)"
      ],
      "metadata": {
        "colab": {
          "base_uri": "https://localhost:8080/"
        },
        "id": "F6Rxny7d70J4",
        "outputId": "eaeaa8b0-0194-4dff-a0bf-55c977c997eb"
      },
      "execution_count": null,
      "outputs": [
        {
          "output_type": "stream",
          "name": "stdout",
          "text": [
            "(455, 30) (455, 1)\n",
            "(114, 30) (114, 1)\n"
          ]
        }
      ]
    },
    {
      "cell_type": "markdown",
      "source": [
        "### 모델링 과정\n",
        "1. 신경망 구조 설계(뼈대, 입력층, 중간층, 출력층)\n",
        "2. 신경망 모델 학습/평가 방법 설정(회귀, 분류)"
      ],
      "metadata": {
        "id": "hxzA5LsT70Mr"
      }
    },
    {
      "cell_type": "code",
      "source": [
        "from tensorflow.keras.models import Sequential\n",
        "from tensorflow.keras.layers import InputLayer, Dense, Activation"
      ],
      "metadata": {
        "id": "FOaEchOB70PB"
      },
      "execution_count": null,
      "outputs": []
    },
    {
      "cell_type": "code",
      "source": [
        "# 뼈대 생성\n",
        "model = Sequential()\n",
        "# 입력층\n",
        "model.add(InputLayer(input_shape=(30,)))\n",
        "# 중간층 (은닉층)\n",
        "model.add(Dense(units=16, activation='sigmoid'))\n",
        "model.add(Dense(units=8, activation='sigmoid'))\n",
        "# 출력층 : 출력받고 싶은 데이터의 형태 지\n",
        "model.add(Dense(units=1, activation='sigmoid'))"
      ],
      "metadata": {
        "id": "aR5y__dU70SU"
      },
      "execution_count": null,
      "outputs": []
    },
    {
      "cell_type": "code",
      "source": [
        "from scipy import optimize\n",
        "# 손실함수로 cross entropy 사용\n",
        "# 이진분류이기 때문에 binary_crossentropy\n",
        "model.compile(\n",
        "    loss='binary_crossentropy',\n",
        "    optimizer='SGD',\n",
        "    metrics=['accuracy'] # 평가방법(분류 : 정확도)\n",
        ")"
      ],
      "metadata": {
        "id": "qXQgtQKhI8a7"
      },
      "execution_count": null,
      "outputs": []
    },
    {
      "cell_type": "code",
      "source": [
        "h1 = model.fit(X_train, y_train, validation_split=0.2, epochs=100)"
      ],
      "metadata": {
        "colab": {
          "base_uri": "https://localhost:8080/"
        },
        "id": "0fneby-p70VK",
        "outputId": "445dffbc-38fc-45d1-fd7d-0cc55453dfda"
      },
      "execution_count": null,
      "outputs": [
        {
          "output_type": "stream",
          "name": "stdout",
          "text": [
            "Epoch 1/100\n",
            "12/12 [==============================] - 1s 49ms/step - loss: 0.6624 - accuracy: 0.6429 - val_loss: 0.6717 - val_accuracy: 0.5714\n",
            "Epoch 2/100\n",
            "12/12 [==============================] - 0s 5ms/step - loss: 0.6549 - accuracy: 0.6429 - val_loss: 0.6598 - val_accuracy: 0.5714\n",
            "Epoch 3/100\n",
            "12/12 [==============================] - 0s 5ms/step - loss: 0.6451 - accuracy: 0.6429 - val_loss: 0.6725 - val_accuracy: 0.5714\n",
            "Epoch 4/100\n",
            "12/12 [==============================] - 0s 6ms/step - loss: 0.6400 - accuracy: 0.6429 - val_loss: 0.6744 - val_accuracy: 0.5714\n",
            "Epoch 5/100\n",
            "12/12 [==============================] - 0s 6ms/step - loss: 0.6432 - accuracy: 0.6429 - val_loss: 0.6689 - val_accuracy: 0.5714\n",
            "Epoch 6/100\n",
            "12/12 [==============================] - 0s 6ms/step - loss: 0.6400 - accuracy: 0.6429 - val_loss: 0.6825 - val_accuracy: 0.5714\n",
            "Epoch 7/100\n",
            "12/12 [==============================] - 0s 6ms/step - loss: 0.6470 - accuracy: 0.6429 - val_loss: 0.6679 - val_accuracy: 0.5714\n",
            "Epoch 8/100\n",
            "12/12 [==============================] - 0s 6ms/step - loss: 0.6353 - accuracy: 0.6429 - val_loss: 0.6821 - val_accuracy: 0.5714\n",
            "Epoch 9/100\n",
            "12/12 [==============================] - 0s 5ms/step - loss: 0.6425 - accuracy: 0.6429 - val_loss: 0.6692 - val_accuracy: 0.5714\n",
            "Epoch 10/100\n",
            "12/12 [==============================] - 0s 6ms/step - loss: 0.6424 - accuracy: 0.6429 - val_loss: 0.6836 - val_accuracy: 0.5714\n",
            "Epoch 11/100\n",
            "12/12 [==============================] - 0s 6ms/step - loss: 0.6513 - accuracy: 0.6429 - val_loss: 0.6748 - val_accuracy: 0.5714\n",
            "Epoch 12/100\n",
            "12/12 [==============================] - 0s 14ms/step - loss: 0.6344 - accuracy: 0.6429 - val_loss: 0.6601 - val_accuracy: 0.5714\n",
            "Epoch 13/100\n",
            "12/12 [==============================] - 0s 23ms/step - loss: 0.6338 - accuracy: 0.6429 - val_loss: 0.6670 - val_accuracy: 0.5714\n",
            "Epoch 14/100\n",
            "12/12 [==============================] - 0s 24ms/step - loss: 0.6308 - accuracy: 0.6429 - val_loss: 0.6627 - val_accuracy: 0.5714\n",
            "Epoch 15/100\n",
            "12/12 [==============================] - 0s 17ms/step - loss: 0.6292 - accuracy: 0.6429 - val_loss: 0.6696 - val_accuracy: 0.5714\n",
            "Epoch 16/100\n",
            "12/12 [==============================] - 0s 10ms/step - loss: 0.6281 - accuracy: 0.6429 - val_loss: 0.6754 - val_accuracy: 0.5714\n",
            "Epoch 17/100\n",
            "12/12 [==============================] - 0s 16ms/step - loss: 0.6295 - accuracy: 0.6429 - val_loss: 0.6786 - val_accuracy: 0.5714\n",
            "Epoch 18/100\n",
            "12/12 [==============================] - 0s 22ms/step - loss: 0.6320 - accuracy: 0.6429 - val_loss: 0.6610 - val_accuracy: 0.5714\n",
            "Epoch 19/100\n",
            "12/12 [==============================] - 0s 25ms/step - loss: 0.6278 - accuracy: 0.6429 - val_loss: 0.6645 - val_accuracy: 0.5714\n",
            "Epoch 20/100\n",
            "12/12 [==============================] - 0s 20ms/step - loss: 0.6260 - accuracy: 0.6429 - val_loss: 0.6790 - val_accuracy: 0.5714\n",
            "Epoch 21/100\n",
            "12/12 [==============================] - 0s 18ms/step - loss: 0.6245 - accuracy: 0.6429 - val_loss: 0.6607 - val_accuracy: 0.5714\n",
            "Epoch 22/100\n",
            "12/12 [==============================] - 0s 23ms/step - loss: 0.6280 - accuracy: 0.6429 - val_loss: 0.6596 - val_accuracy: 0.5714\n",
            "Epoch 23/100\n",
            "12/12 [==============================] - 0s 22ms/step - loss: 0.6259 - accuracy: 0.6429 - val_loss: 0.6613 - val_accuracy: 0.5714\n",
            "Epoch 24/100\n",
            "12/12 [==============================] - 0s 16ms/step - loss: 0.6516 - accuracy: 0.6429 - val_loss: 0.6861 - val_accuracy: 0.5714\n",
            "Epoch 25/100\n",
            "12/12 [==============================] - 0s 17ms/step - loss: 0.6400 - accuracy: 0.6429 - val_loss: 0.6600 - val_accuracy: 0.5714\n",
            "Epoch 26/100\n",
            "12/12 [==============================] - 0s 20ms/step - loss: 0.6231 - accuracy: 0.6429 - val_loss: 0.6600 - val_accuracy: 0.5714\n",
            "Epoch 27/100\n",
            "12/12 [==============================] - 0s 14ms/step - loss: 0.6245 - accuracy: 0.6429 - val_loss: 0.6599 - val_accuracy: 0.5714\n",
            "Epoch 28/100\n",
            "12/12 [==============================] - 0s 10ms/step - loss: 0.6259 - accuracy: 0.6429 - val_loss: 0.6693 - val_accuracy: 0.5714\n",
            "Epoch 29/100\n",
            "12/12 [==============================] - 0s 8ms/step - loss: 0.6284 - accuracy: 0.6429 - val_loss: 0.6593 - val_accuracy: 0.5714\n",
            "Epoch 30/100\n",
            "12/12 [==============================] - 0s 11ms/step - loss: 0.6239 - accuracy: 0.6429 - val_loss: 0.6716 - val_accuracy: 0.5714\n",
            "Epoch 31/100\n",
            "12/12 [==============================] - 0s 9ms/step - loss: 0.6338 - accuracy: 0.6429 - val_loss: 0.6590 - val_accuracy: 0.5714\n",
            "Epoch 32/100\n",
            "12/12 [==============================] - 0s 12ms/step - loss: 0.6178 - accuracy: 0.6429 - val_loss: 0.6586 - val_accuracy: 0.5714\n",
            "Epoch 33/100\n",
            "12/12 [==============================] - 0s 6ms/step - loss: 0.6214 - accuracy: 0.6429 - val_loss: 0.6585 - val_accuracy: 0.5714\n",
            "Epoch 34/100\n",
            "12/12 [==============================] - 0s 7ms/step - loss: 0.6201 - accuracy: 0.6429 - val_loss: 0.6609 - val_accuracy: 0.5714\n",
            "Epoch 35/100\n",
            "12/12 [==============================] - 0s 6ms/step - loss: 0.6200 - accuracy: 0.6429 - val_loss: 0.6602 - val_accuracy: 0.5714\n",
            "Epoch 36/100\n",
            "12/12 [==============================] - 0s 5ms/step - loss: 0.6235 - accuracy: 0.6429 - val_loss: 0.6616 - val_accuracy: 0.5714\n",
            "Epoch 37/100\n",
            "12/12 [==============================] - 0s 5ms/step - loss: 0.6239 - accuracy: 0.6429 - val_loss: 0.6573 - val_accuracy: 0.5714\n",
            "Epoch 38/100\n",
            "12/12 [==============================] - 0s 7ms/step - loss: 0.6203 - accuracy: 0.6429 - val_loss: 0.6748 - val_accuracy: 0.5714\n",
            "Epoch 39/100\n",
            "12/12 [==============================] - 0s 6ms/step - loss: 0.6203 - accuracy: 0.6429 - val_loss: 0.6575 - val_accuracy: 0.5714\n",
            "Epoch 40/100\n",
            "12/12 [==============================] - 0s 5ms/step - loss: 0.6150 - accuracy: 0.6429 - val_loss: 0.6636 - val_accuracy: 0.5714\n",
            "Epoch 41/100\n",
            "12/12 [==============================] - 0s 6ms/step - loss: 0.6187 - accuracy: 0.6429 - val_loss: 0.6577 - val_accuracy: 0.5714\n",
            "Epoch 42/100\n",
            "12/12 [==============================] - 0s 6ms/step - loss: 0.6265 - accuracy: 0.6429 - val_loss: 0.6626 - val_accuracy: 0.5714\n",
            "Epoch 43/100\n",
            "12/12 [==============================] - 0s 5ms/step - loss: 0.6173 - accuracy: 0.6429 - val_loss: 0.6548 - val_accuracy: 0.5714\n",
            "Epoch 44/100\n",
            "12/12 [==============================] - 0s 6ms/step - loss: 0.6152 - accuracy: 0.6429 - val_loss: 0.6551 - val_accuracy: 0.5714\n",
            "Epoch 45/100\n",
            "12/12 [==============================] - 0s 5ms/step - loss: 0.6163 - accuracy: 0.6429 - val_loss: 0.6568 - val_accuracy: 0.5714\n",
            "Epoch 46/100\n",
            "12/12 [==============================] - 0s 5ms/step - loss: 0.6214 - accuracy: 0.6429 - val_loss: 0.6801 - val_accuracy: 0.5714\n",
            "Epoch 47/100\n",
            "12/12 [==============================] - 0s 5ms/step - loss: 0.6208 - accuracy: 0.6429 - val_loss: 0.6569 - val_accuracy: 0.5714\n",
            "Epoch 48/100\n",
            "12/12 [==============================] - 0s 6ms/step - loss: 0.6148 - accuracy: 0.6429 - val_loss: 0.6793 - val_accuracy: 0.5714\n",
            "Epoch 49/100\n",
            "12/12 [==============================] - 0s 5ms/step - loss: 0.6295 - accuracy: 0.6429 - val_loss: 0.6513 - val_accuracy: 0.5714\n",
            "Epoch 50/100\n",
            "12/12 [==============================] - 0s 6ms/step - loss: 0.6151 - accuracy: 0.6429 - val_loss: 0.6790 - val_accuracy: 0.5714\n",
            "Epoch 51/100\n",
            "12/12 [==============================] - 0s 6ms/step - loss: 0.6236 - accuracy: 0.6429 - val_loss: 0.6535 - val_accuracy: 0.5714\n",
            "Epoch 52/100\n",
            "12/12 [==============================] - 0s 7ms/step - loss: 0.6115 - accuracy: 0.6429 - val_loss: 0.6708 - val_accuracy: 0.5714\n",
            "Epoch 53/100\n",
            "12/12 [==============================] - 0s 6ms/step - loss: 0.6153 - accuracy: 0.6429 - val_loss: 0.6629 - val_accuracy: 0.5714\n",
            "Epoch 54/100\n",
            "12/12 [==============================] - 0s 5ms/step - loss: 0.6111 - accuracy: 0.6429 - val_loss: 0.6531 - val_accuracy: 0.5714\n",
            "Epoch 55/100\n",
            "12/12 [==============================] - 0s 6ms/step - loss: 0.6105 - accuracy: 0.6429 - val_loss: 0.6496 - val_accuracy: 0.5714\n",
            "Epoch 56/100\n",
            "12/12 [==============================] - 0s 5ms/step - loss: 0.6109 - accuracy: 0.6429 - val_loss: 0.6488 - val_accuracy: 0.5714\n",
            "Epoch 57/100\n",
            "12/12 [==============================] - 0s 6ms/step - loss: 0.6101 - accuracy: 0.6429 - val_loss: 0.6456 - val_accuracy: 0.5714\n",
            "Epoch 58/100\n",
            "12/12 [==============================] - 0s 5ms/step - loss: 0.6079 - accuracy: 0.6429 - val_loss: 0.6483 - val_accuracy: 0.5714\n",
            "Epoch 59/100\n",
            "12/12 [==============================] - 0s 7ms/step - loss: 0.6146 - accuracy: 0.6429 - val_loss: 0.6487 - val_accuracy: 0.5714\n",
            "Epoch 60/100\n",
            "12/12 [==============================] - 0s 6ms/step - loss: 0.6136 - accuracy: 0.6429 - val_loss: 0.6469 - val_accuracy: 0.5714\n",
            "Epoch 61/100\n",
            "12/12 [==============================] - 0s 5ms/step - loss: 0.6089 - accuracy: 0.6429 - val_loss: 0.6742 - val_accuracy: 0.5714\n",
            "Epoch 62/100\n",
            "12/12 [==============================] - 0s 6ms/step - loss: 0.6326 - accuracy: 0.6429 - val_loss: 0.6473 - val_accuracy: 0.5714\n",
            "Epoch 63/100\n",
            "12/12 [==============================] - 0s 5ms/step - loss: 0.6050 - accuracy: 0.6429 - val_loss: 0.6769 - val_accuracy: 0.5714\n",
            "Epoch 64/100\n",
            "12/12 [==============================] - 0s 5ms/step - loss: 0.6199 - accuracy: 0.6429 - val_loss: 0.6657 - val_accuracy: 0.5714\n",
            "Epoch 65/100\n",
            "12/12 [==============================] - 0s 5ms/step - loss: 0.6085 - accuracy: 0.6429 - val_loss: 0.6576 - val_accuracy: 0.5714\n",
            "Epoch 66/100\n",
            "12/12 [==============================] - 0s 5ms/step - loss: 0.6102 - accuracy: 0.6429 - val_loss: 0.6847 - val_accuracy: 0.5714\n",
            "Epoch 67/100\n",
            "12/12 [==============================] - 0s 5ms/step - loss: 0.6550 - accuracy: 0.6429 - val_loss: 0.6851 - val_accuracy: 0.5714\n",
            "Epoch 68/100\n",
            "12/12 [==============================] - 0s 6ms/step - loss: 0.6540 - accuracy: 0.6429 - val_loss: 0.6851 - val_accuracy: 0.5714\n",
            "Epoch 69/100\n",
            "12/12 [==============================] - 0s 6ms/step - loss: 0.6407 - accuracy: 0.6429 - val_loss: 0.6472 - val_accuracy: 0.5714\n",
            "Epoch 70/100\n",
            "12/12 [==============================] - 0s 7ms/step - loss: 0.6094 - accuracy: 0.6429 - val_loss: 0.6794 - val_accuracy: 0.5714\n",
            "Epoch 71/100\n",
            "12/12 [==============================] - 0s 6ms/step - loss: 0.6231 - accuracy: 0.6429 - val_loss: 0.6480 - val_accuracy: 0.5714\n",
            "Epoch 72/100\n",
            "12/12 [==============================] - 0s 5ms/step - loss: 0.6059 - accuracy: 0.6429 - val_loss: 0.6468 - val_accuracy: 0.5714\n",
            "Epoch 73/100\n",
            "12/12 [==============================] - 0s 5ms/step - loss: 0.6014 - accuracy: 0.6429 - val_loss: 0.6460 - val_accuracy: 0.5714\n",
            "Epoch 74/100\n",
            "12/12 [==============================] - 0s 6ms/step - loss: 0.6079 - accuracy: 0.6429 - val_loss: 0.6455 - val_accuracy: 0.5714\n",
            "Epoch 75/100\n",
            "12/12 [==============================] - 0s 6ms/step - loss: 0.6124 - accuracy: 0.6429 - val_loss: 0.6448 - val_accuracy: 0.5714\n",
            "Epoch 76/100\n",
            "12/12 [==============================] - 0s 7ms/step - loss: 0.6145 - accuracy: 0.6429 - val_loss: 0.6437 - val_accuracy: 0.5714\n",
            "Epoch 77/100\n",
            "12/12 [==============================] - 0s 6ms/step - loss: 0.6015 - accuracy: 0.6429 - val_loss: 0.6785 - val_accuracy: 0.5714\n",
            "Epoch 78/100\n",
            "12/12 [==============================] - 0s 5ms/step - loss: 0.6116 - accuracy: 0.6429 - val_loss: 0.6419 - val_accuracy: 0.5714\n",
            "Epoch 79/100\n",
            "12/12 [==============================] - 0s 6ms/step - loss: 0.6007 - accuracy: 0.6429 - val_loss: 0.6422 - val_accuracy: 0.5714\n",
            "Epoch 80/100\n",
            "12/12 [==============================] - 0s 5ms/step - loss: 0.5946 - accuracy: 0.6429 - val_loss: 0.6663 - val_accuracy: 0.5714\n",
            "Epoch 81/100\n",
            "12/12 [==============================] - 0s 7ms/step - loss: 0.6062 - accuracy: 0.6429 - val_loss: 0.6394 - val_accuracy: 0.5714\n",
            "Epoch 82/100\n",
            "12/12 [==============================] - 0s 5ms/step - loss: 0.6045 - accuracy: 0.6429 - val_loss: 0.6401 - val_accuracy: 0.5714\n",
            "Epoch 83/100\n",
            "12/12 [==============================] - 0s 6ms/step - loss: 0.5982 - accuracy: 0.6429 - val_loss: 0.6521 - val_accuracy: 0.5714\n",
            "Epoch 84/100\n",
            "12/12 [==============================] - 0s 5ms/step - loss: 0.6109 - accuracy: 0.6429 - val_loss: 0.6383 - val_accuracy: 0.5714\n",
            "Epoch 85/100\n",
            "12/12 [==============================] - 0s 5ms/step - loss: 0.5971 - accuracy: 0.6429 - val_loss: 0.6486 - val_accuracy: 0.5714\n",
            "Epoch 86/100\n",
            "12/12 [==============================] - 0s 5ms/step - loss: 0.5940 - accuracy: 0.6429 - val_loss: 0.6368 - val_accuracy: 0.5714\n",
            "Epoch 87/100\n",
            "12/12 [==============================] - 0s 5ms/step - loss: 0.5963 - accuracy: 0.6429 - val_loss: 0.6368 - val_accuracy: 0.5714\n",
            "Epoch 88/100\n",
            "12/12 [==============================] - 0s 6ms/step - loss: 0.5959 - accuracy: 0.6429 - val_loss: 0.6340 - val_accuracy: 0.5714\n",
            "Epoch 89/100\n",
            "12/12 [==============================] - 0s 5ms/step - loss: 0.5975 - accuracy: 0.6429 - val_loss: 0.6372 - val_accuracy: 0.5714\n",
            "Epoch 90/100\n",
            "12/12 [==============================] - 0s 6ms/step - loss: 0.5932 - accuracy: 0.6429 - val_loss: 0.6566 - val_accuracy: 0.5714\n",
            "Epoch 91/100\n",
            "12/12 [==============================] - 0s 5ms/step - loss: 0.5914 - accuracy: 0.6429 - val_loss: 0.6332 - val_accuracy: 0.5714\n",
            "Epoch 92/100\n",
            "12/12 [==============================] - 0s 5ms/step - loss: 0.5971 - accuracy: 0.6429 - val_loss: 0.6321 - val_accuracy: 0.5714\n",
            "Epoch 93/100\n",
            "12/12 [==============================] - 0s 5ms/step - loss: 0.5920 - accuracy: 0.6429 - val_loss: 0.6314 - val_accuracy: 0.5714\n",
            "Epoch 94/100\n",
            "12/12 [==============================] - 0s 6ms/step - loss: 0.5913 - accuracy: 0.6429 - val_loss: 0.6511 - val_accuracy: 0.5714\n",
            "Epoch 95/100\n",
            "12/12 [==============================] - 0s 5ms/step - loss: 0.5955 - accuracy: 0.6429 - val_loss: 0.6520 - val_accuracy: 0.5714\n",
            "Epoch 96/100\n",
            "12/12 [==============================] - 0s 6ms/step - loss: 0.5948 - accuracy: 0.6429 - val_loss: 0.6314 - val_accuracy: 0.5714\n",
            "Epoch 97/100\n",
            "12/12 [==============================] - 0s 6ms/step - loss: 0.5915 - accuracy: 0.6429 - val_loss: 0.6407 - val_accuracy: 0.5714\n",
            "Epoch 98/100\n",
            "12/12 [==============================] - 0s 6ms/step - loss: 0.5897 - accuracy: 0.6429 - val_loss: 0.6312 - val_accuracy: 0.5714\n",
            "Epoch 99/100\n",
            "12/12 [==============================] - 0s 7ms/step - loss: 0.5973 - accuracy: 0.6429 - val_loss: 0.6195 - val_accuracy: 0.5714\n",
            "Epoch 100/100\n",
            "12/12 [==============================] - 0s 5ms/step - loss: 0.5897 - accuracy: 0.6429 - val_loss: 0.6546 - val_accuracy: 0.5714\n"
          ]
        }
      ]
    },
    {
      "cell_type": "code",
      "source": [
        "model.evaluate(X_test,y_test)"
      ],
      "metadata": {
        "colab": {
          "base_uri": "https://localhost:8080/"
        },
        "id": "M51xltml70X7",
        "outputId": "30bc5e2c-070b-432b-ca9c-1f195183f71e"
      },
      "execution_count": null,
      "outputs": [
        {
          "output_type": "stream",
          "name": "stdout",
          "text": [
            "4/4 [==============================] - 0s 4ms/step - loss: 0.6200 - accuracy: 0.6228\n"
          ]
        },
        {
          "output_type": "execute_result",
          "data": {
            "text/plain": [
              "[0.6199586391448975, 0.6228070259094238]"
            ]
          },
          "metadata": {},
          "execution_count": 16
        }
      ]
    },
    {
      "cell_type": "code",
      "source": [
        "h1.history"
      ],
      "metadata": {
        "id": "w3ziSoOkLQFy"
      },
      "execution_count": null,
      "outputs": []
    },
    {
      "cell_type": "code",
      "source": [
        "# 결과 시각화\n",
        "plt.plot(h1.history['loss'], label='loss')\n",
        "plt.plot(h1.history['val_loss'], label='val_loss')\n",
        "plt.legend()\n",
        "plt.show()"
      ],
      "metadata": {
        "colab": {
          "base_uri": "https://localhost:8080/",
          "height": 430
        },
        "id": "38aCe4zj70ax",
        "outputId": "a9b8faa9-dcaf-430d-e7df-b71804f42f34"
      },
      "execution_count": null,
      "outputs": [
        {
          "output_type": "display_data",
          "data": {
            "text/plain": [
              "<Figure size 640x480 with 1 Axes>"
            ],
            "image/png": "[encoded data removed]"
          },
          "metadata": {}
        }
      ]
    },
    {
      "cell_type": "code",
      "source": [
        "model.summary()"
      ],
      "metadata": {
        "colab": {
          "base_uri": "https://localhost:8080/"
        },
        "id": "yS_gJilJ70dF",
        "outputId": "0b632566-06a1-4784-ab2c-68d6b1fc4e3d"
      },
      "execution_count": null,
      "outputs": [
        {
          "output_type": "stream",
          "name": "stdout",
          "text": [
            "Model: \"sequential_1\"\n",
            "_________________________________________________________________\n",
            " Layer (type)                Output Shape              Param #   \n",
            "=================================================================\n",
            " dense_2 (Dense)             (None, 16)                496       \n",
            "                                                                 \n",
            " dense_3 (Dense)             (None, 8)                 136       \n",
            "                                                                 \n",
            " dense_4 (Dense)             (None, 1)                 9         \n",
            "                                                                 \n",
            "=================================================================\n",
            "Total params: 641 (2.50 KB)\n",
            "Trainable params: 641 (2.50 KB)\n",
            "Non-trainable params: 0 (0.00 Byte)\n",
            "_________________________________________________________________\n"
          ]
        }
      ]
    },
    {
      "cell_type": "code",
      "source": [],
      "metadata": {
        "id": "S59FEACz70f6"
      },
      "execution_count": null,
      "outputs": []
    }
  ]
}