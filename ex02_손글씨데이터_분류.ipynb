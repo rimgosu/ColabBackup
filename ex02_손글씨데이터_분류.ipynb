{
  "nbformat": 4,
  "nbformat_minor": 0,
  "metadata": {
    "colab": {
      "provenance": [],
      "authorship_tag": "ABX9TyOxl8v9mdba6J1lTWv1cFMR",
      "include_colab_link": true
    },
    "kernelspec": {
      "name": "python3",
      "display_name": "Python 3"
    },
    "language_info": {
      "name": "python"
    }
  },
  "cells": [
    {
      "cell_type": "markdown",
      "metadata": {
        "id": "view-in-github",
        "colab_type": "text"
      },
      "source": [
        "<a href=\"https://colab.research.google.com/github/rimgosu/ColabBackup/blob/master/ex02_%EC%86%90%EA%B8%80%EC%94%A8%EB%8D%B0%EC%9D%B4%ED%84%B0_%EB%B6%84%EB%A5%98.ipynb\" target=\"_parent\"><img src=\"https://colab.research.google.com/assets/colab-badge.svg\" alt=\"Open In Colab\"/></a>"
      ]
    },
    {
      "cell_type": "markdown",
      "source": [
        "# 목표\n",
        "  - 손글씨 데이터를 분류하는 딥러닝 모델을 설계해보자!\n",
        "  - 다중분류 딥러닝 모델을 연습해보자~"
      ],
      "metadata": {
        "id": "0PMlXJ73fGzA"
      }
    },
    {
      "cell_type": "code",
      "source": [
        "# 기본라이브러리 불러오기\n",
        "import numpy as np\n",
        "import pandas as pd\n",
        "import matplotlib.pyplot as plt"
      ],
      "metadata": {
        "id": "9uNO_qS4fWHM"
      },
      "execution_count": 1,
      "outputs": []
    },
    {
      "cell_type": "markdown",
      "source": [
        "# 데이터 로딩"
      ],
      "metadata": {
        "id": "teXFTCKQfWTa"
      }
    },
    {
      "cell_type": "code",
      "source": [
        "# keras 에서 제공해주는 손글씨데이터 불러오기\n",
        "from tensorflow.keras.datasets import mnist"
      ],
      "metadata": {
        "id": "bz3PTVY7fWWN"
      },
      "execution_count": 3,
      "outputs": []
    },
    {
      "cell_type": "code",
      "source": [
        "# 문제데이터와 정답데이터가 나뉘어 제공해주고 있음\n",
        "# 훈련용, 테스트용 데이터도 나뉘어 제공\n",
        "(X_train, y_train), (X_test, y_test) = mnist.load_data()"
      ],
      "metadata": {
        "colab": {
          "base_uri": "https://localhost:8080/"
        },
        "id": "z84vwPTBfrpM",
        "outputId": "0ff5c80b-d544-4833-8fbb-559b26ab1aa2"
      },
      "execution_count": 4,
      "outputs": [
        {
          "output_type": "stream",
          "name": "stdout",
          "text": [
            "Downloading data from https://storage.googleapis.com/tensorflow/tf-keras-datasets/mnist.npz\n",
            "11490434/11490434 [==============================] - 0s 0us/step\n"
          ]
        }
      ]
    },
    {
      "cell_type": "code",
      "source": [
        "# 데이터 크기 확인\n",
        "X_train.shape, y_train.shape, X_test.shape, y_test.shape"
      ],
      "metadata": {
        "colab": {
          "base_uri": "https://localhost:8080/"
        },
        "id": "q9bEhTU1fWZE",
        "outputId": "a0471ec9-05eb-45f5-b456-c7df1197877c"
      },
      "execution_count": 5,
      "outputs": [
        {
          "output_type": "execute_result",
          "data": {
            "text/plain": [
              "((60000, 28, 28), (60000,), (10000, 28, 28), (10000,))"
            ]
          },
          "metadata": {},
          "execution_count": 5
        }
      ]
    },
    {
      "cell_type": "code",
      "source": [
        "# 사진데이터 확인\n",
        "plt.imshow(X_train[1000], cmap='gray')\n",
        "# 0~255의 숫자를 가진다"
      ],
      "metadata": {
        "colab": {
          "base_uri": "https://localhost:8080/",
          "height": 448
        },
        "id": "szA8QhcfghcY",
        "outputId": "605abca7-6ba6-4c8e-cc40-8eba61fdf4a5"
      },
      "execution_count": 9,
      "outputs": [
        {
          "output_type": "execute_result",
          "data": {
            "text/plain": [
              "<matplotlib.image.AxesImage at 0x7c13faa4b940>"
            ]
          },
          "metadata": {},
          "execution_count": 9
        },
        {
          "output_type": "display_data",
          "data": {
            "text/plain": [
              "<Figure size 640x480 with 1 Axes>"
            ],
            "image/png": "[encoded data removed]"
          },
          "metadata": {}
        }
      ]
    },
    {
      "cell_type": "code",
      "source": [
        "# 정답데이터 확인\n",
        "np.unique(y_train)"
      ],
      "metadata": {
        "colab": {
          "base_uri": "https://localhost:8080/"
        },
        "id": "x51aW7krfWba",
        "outputId": "1444d12d-acd5-4234-affc-e2f2ed0fc7d3"
      },
      "execution_count": 8,
      "outputs": [
        {
          "output_type": "execute_result",
          "data": {
            "text/plain": [
              "array([0, 1, 2, 3, 4, 5, 6, 7, 8, 9], dtype=uint8)"
            ]
          },
          "metadata": {},
          "execution_count": 8
        }
      ]
    },
    {
      "cell_type": "markdown",
      "source": [
        "# MLP 모델링\n",
        "- 입력층의 구조, 출력층의 구조 고려\n",
        "- 학습능력을 위한 중간층의 깊이 고려\n",
        "- LOSS, OPTIMIZER 설정"
      ],
      "metadata": {
        "id": "xbTYWAgLfWer"
      }
    },
    {
      "cell_type": "code",
      "source": [
        "# 딥러닝 라이브러리 불러오기\n",
        "from tensorflow.keras.models import Sequential\n",
        "from tensorflow.keras.layers import Dense, InputLayer, Flatten\n",
        "# Dense : 퍼셉트론을 묶음으로 표현하는 클래스\n",
        "# inputLayer : 입력층 설정\n",
        "# Flatten : 2차원의 사진 데이터를 1차원으로 표현하기 위한 클래"
      ],
      "metadata": {
        "id": "YkfLUEenfWhA"
      },
      "execution_count": 11,
      "outputs": []
    },
    {
      "cell_type": "code",
      "source": [
        "# 1. 신경망 설계\n",
        "digit_model = Sequential()\n",
        "digit_model.add(InputLayer(input_shape = (28,28)))\n",
        "digit_model.add(Flatten()) # 2차원 => 1차원 변\n",
        "digit_model.add(Dense(units=16, activation='sigmoid'))\n",
        "digit_model.add(Dense(units=8, activation='sigmoid'))\n",
        "# 출력층\n",
        "digit_model.add(Dense(units=10))\n",
        "# 다중 분류는 클래스의 갯수만큼 선형 모델이 필요하다\n",
        "# softmax"
      ],
      "metadata": {
        "id": "cFoB_lC9iAe3"
      },
      "execution_count": 16,
      "outputs": []
    },
    {
      "cell_type": "code",
      "source": [
        "# 2. 모델 학습 및 평가 방법 설\n",
        "digit_model.compile(loss = 'categorical_crossentropy',\n",
        "                    optimizer= 'SGD',\n",
        "                    metrics = ['accuracy'])"
      ],
      "metadata": {
        "id": "-TsO0rnViBHK"
      },
      "execution_count": 18,
      "outputs": []
    },
    {
      "cell_type": "code",
      "source": [],
      "metadata": {
        "id": "7VjU70BiiBKI"
      },
      "execution_count": null,
      "outputs": []
    },
    {
      "cell_type": "code",
      "source": [],
      "metadata": {
        "id": "PduCQ-OgiBMY"
      },
      "execution_count": null,
      "outputs": []
    },
    {
      "cell_type": "code",
      "source": [],
      "metadata": {
        "id": "b1-4-LdtiBPK"
      },
      "execution_count": null,
      "outputs": []
    },
    {
      "cell_type": "code",
      "source": [],
      "metadata": {
        "id": "Z9RJ6kCGiBRf"
      },
      "execution_count": null,
      "outputs": []
    },
    {
      "cell_type": "code",
      "source": [],
      "metadata": {
        "id": "XAYYQE73fWj1"
      },
      "execution_count": null,
      "outputs": []
    }
  ]
}